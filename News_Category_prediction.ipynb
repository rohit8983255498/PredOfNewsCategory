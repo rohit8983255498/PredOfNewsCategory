{
  "nbformat": 4,
  "nbformat_minor": 0,
  "metadata": {
    "colab": {
      "name": "News_Category_prediction.ipynb",
      "version": "0.3.2",
      "provenance": [],
      "collapsed_sections": [],
      "toc_visible": true
    },
    "kernelspec": {
      "name": "python3",
      "display_name": "Python 3"
    }
  },
  "cells": [
    {
      "cell_type": "markdown",
      "metadata": {
        "id": "htU4fhAQmbrg",
        "colab_type": "text"
      },
      "source": [
        "# News Category Prediction Problem"
      ]
    },
    {
      "cell_type": "markdown",
      "metadata": {
        "id": "WvAbNIllYOMk",
        "colab_type": "text"
      },
      "source": [
        "## Importing Libraries"
      ]
    },
    {
      "cell_type": "code",
      "metadata": {
        "id": "wxN9-uEdVpJi",
        "colab_type": "code",
        "outputId": "b54012f7-af4b-40fa-8fdc-d88c1b7e9d6f",
        "colab": {
          "base_uri": "https://localhost:8080/",
          "height": 71
        }
      },
      "source": [
        "import pandas as pd\n",
        "import matplotlib.pyplot as plt\n",
        "import re\n",
        "import time\n",
        "import warnings\n",
        "import numpy as np\n",
        "from nltk.corpus import stopwords\n",
        "from sklearn.decomposition import TruncatedSVD\n",
        "from sklearn.preprocessing import normalize\n",
        "from sklearn.feature_extraction.text import CountVectorizer\n",
        "from sklearn.manifold import TSNE\n",
        "import seaborn as sns\n",
        "from sklearn.neighbors import KNeighborsClassifier\n",
        "from sklearn.metrics import confusion_matrix\n",
        "from sklearn.metrics.classification import accuracy_score, log_loss\n",
        "from sklearn.feature_extraction.text import TfidfVectorizer\n",
        "from sklearn.linear_model import SGDClassifier\n",
        "from imblearn.over_sampling import SMOTE\n",
        "from collections import Counter\n",
        "from scipy.sparse import hstack\n",
        "from sklearn.multiclass import OneVsRestClassifier\n",
        "from sklearn.svm import SVC\n",
        "from sklearn import model_selection\n",
        "from sklearn.model_selection import StratifiedKFold \n",
        "from collections import Counter, defaultdict\n",
        "from sklearn.calibration import CalibratedClassifierCV\n",
        "from sklearn.naive_bayes import MultinomialNB\n",
        "from sklearn.naive_bayes import GaussianNB\n",
        "from sklearn.model_selection import train_test_split\n",
        "from sklearn.model_selection import GridSearchCV\n",
        "import math\n",
        "from sklearn.metrics import normalized_mutual_info_score\n",
        "from sklearn.ensemble import RandomForestClassifier\n",
        "warnings.filterwarnings(\"ignore\")\n",
        "\n",
        "from mlxtend.classifier import StackingClassifier\n",
        "\n",
        "from sklearn import model_selection\n",
        "from sklearn.linear_model import LogisticRegression"
      ],
      "execution_count": 0,
      "outputs": [
        {
          "output_type": "stream",
          "text": [
            "/usr/local/lib/python3.6/dist-packages/sklearn/externals/six.py:31: DeprecationWarning: The module is deprecated in version 0.21 and will be removed in version 0.23 since we've dropped support for Python 2.7. Please rely on the official version of six (https://pypi.org/project/six/).\n",
            "  \"(https://pypi.org/project/six/).\", DeprecationWarning)\n"
          ],
          "name": "stderr"
        }
      ]
    },
    {
      "cell_type": "code",
      "metadata": {
        "id": "cMrKjVfVYEp4",
        "colab_type": "code",
        "colab": {}
      },
      "source": [
        "train_data = pd.read_excel('Data_Train.xlsx')\n",
        "test_data = pd.read_excel('Data_Test.xlsx')\n"
      ],
      "execution_count": 0,
      "outputs": []
    },
    {
      "cell_type": "code",
      "metadata": {
        "id": "GiP6eNHgYEkv",
        "colab_type": "code",
        "outputId": "781a7f2e-fec7-44f3-a52a-ddc46c51d30a",
        "colab": {
          "base_uri": "https://localhost:8080/",
          "height": 359
        }
      },
      "source": [
        "train_data.head(10)"
      ],
      "execution_count": 0,
      "outputs": [
        {
          "output_type": "execute_result",
          "data": {
            "text/html": [
              "<div>\n",
              "<style scoped>\n",
              "    .dataframe tbody tr th:only-of-type {\n",
              "        vertical-align: middle;\n",
              "    }\n",
              "\n",
              "    .dataframe tbody tr th {\n",
              "        vertical-align: top;\n",
              "    }\n",
              "\n",
              "    .dataframe thead th {\n",
              "        text-align: right;\n",
              "    }\n",
              "</style>\n",
              "<table border=\"1\" class=\"dataframe\">\n",
              "  <thead>\n",
              "    <tr style=\"text-align: right;\">\n",
              "      <th></th>\n",
              "      <th>STORY</th>\n",
              "      <th>SECTION</th>\n",
              "    </tr>\n",
              "  </thead>\n",
              "  <tbody>\n",
              "    <tr>\n",
              "      <th>0</th>\n",
              "      <td>But the most painful was the huge reversal in ...</td>\n",
              "      <td>3</td>\n",
              "    </tr>\n",
              "    <tr>\n",
              "      <th>1</th>\n",
              "      <td>How formidable is the opposition alliance amon...</td>\n",
              "      <td>0</td>\n",
              "    </tr>\n",
              "    <tr>\n",
              "      <th>2</th>\n",
              "      <td>Most Asian currencies were trading lower today...</td>\n",
              "      <td>3</td>\n",
              "    </tr>\n",
              "    <tr>\n",
              "      <th>3</th>\n",
              "      <td>If you want to answer any question, click on ‘...</td>\n",
              "      <td>1</td>\n",
              "    </tr>\n",
              "    <tr>\n",
              "      <th>4</th>\n",
              "      <td>In global markets, gold prices edged up today ...</td>\n",
              "      <td>3</td>\n",
              "    </tr>\n",
              "    <tr>\n",
              "      <th>5</th>\n",
              "      <td>BEIJING: Chinese tech giant Huawei has announc...</td>\n",
              "      <td>1</td>\n",
              "    </tr>\n",
              "    <tr>\n",
              "      <th>6</th>\n",
              "      <td>Mumbai: India Inc's external commercial borrow...</td>\n",
              "      <td>3</td>\n",
              "    </tr>\n",
              "    <tr>\n",
              "      <th>7</th>\n",
              "      <td>On Wednesday, Federal Reserve Chairman Jerome ...</td>\n",
              "      <td>3</td>\n",
              "    </tr>\n",
              "    <tr>\n",
              "      <th>8</th>\n",
              "      <td>What more can you give to the audience? I have...</td>\n",
              "      <td>2</td>\n",
              "    </tr>\n",
              "    <tr>\n",
              "      <th>9</th>\n",
              "      <td>com, Arbaaz Khan spoke about getting back to D...</td>\n",
              "      <td>2</td>\n",
              "    </tr>\n",
              "  </tbody>\n",
              "</table>\n",
              "</div>"
            ],
            "text/plain": [
              "                                               STORY  SECTION\n",
              "0  But the most painful was the huge reversal in ...        3\n",
              "1  How formidable is the opposition alliance amon...        0\n",
              "2  Most Asian currencies were trading lower today...        3\n",
              "3  If you want to answer any question, click on ‘...        1\n",
              "4  In global markets, gold prices edged up today ...        3\n",
              "5  BEIJING: Chinese tech giant Huawei has announc...        1\n",
              "6  Mumbai: India Inc's external commercial borrow...        3\n",
              "7  On Wednesday, Federal Reserve Chairman Jerome ...        3\n",
              "8  What more can you give to the audience? I have...        2\n",
              "9  com, Arbaaz Khan spoke about getting back to D...        2"
            ]
          },
          "metadata": {
            "tags": []
          },
          "execution_count": 3
        }
      ]
    },
    {
      "cell_type": "code",
      "metadata": {
        "id": "CqLTONmjYIPz",
        "colab_type": "code",
        "outputId": "02b622b9-53c7-4017-e53e-53daa2b4fd27",
        "colab": {
          "base_uri": "https://localhost:8080/",
          "height": 68
        }
      },
      "source": [
        "print(\"Number of data points in train data\", train_data.shape)\n",
        "print('-'*50)\n",
        "print(\"The attributes of data :\", train_data.columns.values)\n"
      ],
      "execution_count": 0,
      "outputs": [
        {
          "output_type": "stream",
          "text": [
            "Number of data points in train data (7628, 2)\n",
            "--------------------------------------------------\n",
            "The attributes of data : ['STORY' 'SECTION']\n"
          ],
          "name": "stdout"
        }
      ]
    },
    {
      "cell_type": "markdown",
      "metadata": {
        "id": "d-Gn61phYXhy",
        "colab_type": "text"
      },
      "source": [
        "# Text Preprocessing"
      ]
    },
    {
      "cell_type": "code",
      "metadata": {
        "id": "htFvdv1EYEiN",
        "colab_type": "code",
        "colab": {}
      },
      "source": [
        "import re\n",
        "\n",
        "def decontracted(phrase):\n",
        "    # specific\n",
        "    phrase = re.sub(r\"won't\", \"will not\", phrase)\n",
        "    phrase = re.sub(r\"can\\'t\", \"can not\", phrase)\n",
        "\n",
        "    # general\n",
        "    phrase = re.sub(r\"n\\'t\", \" not\", phrase)\n",
        "    phrase = re.sub(r\"\\'re\", \" are\", phrase)\n",
        "    phrase = re.sub(r\"\\'s\", \" is\", phrase)\n",
        "    phrase = re.sub(r\"\\'d\", \" would\", phrase)\n",
        "    phrase = re.sub(r\"\\'ll\", \" will\", phrase)\n",
        "    phrase = re.sub(r\"\\'t\", \" not\", phrase)\n",
        "    phrase = re.sub(r\"\\'ve\", \" have\", phrase)\n",
        "    phrase = re.sub(r\"\\'m\", \" am\", phrase)\n",
        "    return phrase"
      ],
      "execution_count": 0,
      "outputs": []
    },
    {
      "cell_type": "code",
      "metadata": {
        "id": "poVGGbSpYjrG",
        "colab_type": "code",
        "colab": {}
      },
      "source": [
        "# we are removing the words from the stop words list: 'no', 'nor', 'not'\n",
        "stopwords= ['i', 'me', 'my', 'myself', 'we', 'our', 'ours', 'ourselves', 'you', \"you're\", \"you've\",\\\n",
        "            \"you'll\", \"you'd\", 'your', 'yours', 'yourself', 'yourselves', 'he', 'him', 'his', 'himself', \\\n",
        "            'she', \"she's\", 'her', 'hers', 'herself', 'it', \"it's\", 'its', 'itself', 'they', 'them', 'their',\\\n",
        "            'theirs', 'themselves', 'what', 'which', 'who', 'whom', 'this', 'that', \"that'll\", 'these', 'those', \\\n",
        "            'am', 'is', 'are', 'was', 'were', 'be', 'been', 'being', 'have', 'has', 'had', 'having', 'do', 'does', \\\n",
        "            'did', 'doing', 'a', 'an', 'the', 'and', 'but', 'if', 'or', 'because', 'as', 'until', 'while', 'of', \\\n",
        "            'at', 'by', 'for', 'with', 'about', 'against', 'between', 'into', 'through', 'during', 'before', 'after',\\\n",
        "            'above', 'below', 'to', 'from', 'up', 'down', 'in', 'out', 'on', 'off', 'over', 'under', 'again', 'further',\\\n",
        "            'then', 'once', 'here', 'there', 'when', 'where', 'why', 'how', 'all', 'any', 'both', 'each', 'few', 'more',\\\n",
        "            'most', 'other', 'some', 'such', 'only', 'own', 'same', 'so', 'than', 'too', 'very', \\\n",
        "            's', 't', 'can', 'will', 'just', 'don', \"don't\", 'should', \"should've\", 'now', 'd', 'll', 'm', 'o', 're', \\\n",
        "            've', 'y', 'ain', 'aren', \"aren't\", 'couldn', \"couldn't\", 'didn', \"didn't\", 'doesn', \"doesn't\", 'hadn',\\\n",
        "            \"hadn't\", 'hasn', \"hasn't\", 'haven', \"haven't\", 'isn', \"isn't\", 'ma', 'mightn', \"mightn't\", 'mustn',\\\n",
        "            \"mustn't\", 'needn', \"needn't\", 'shan', \"shan't\", 'shouldn', \"shouldn't\", 'wasn', \"wasn't\", 'weren', \"weren't\", \\\n",
        "            'won', \"won't\", 'wouldn', \"wouldn't\"]"
      ],
      "execution_count": 0,
      "outputs": []
    },
    {
      "cell_type": "code",
      "metadata": {
        "id": "jqzB5hL6Yjnr",
        "colab_type": "code",
        "outputId": "b5c6d4fe-17b1-4c36-c96b-eaf64630d903",
        "colab": {
          "base_uri": "https://localhost:8080/",
          "height": 34
        }
      },
      "source": [
        "len(stopwords)"
      ],
      "execution_count": 0,
      "outputs": [
        {
          "output_type": "execute_result",
          "data": {
            "text/plain": [
              "176"
            ]
          },
          "metadata": {
            "tags": []
          },
          "execution_count": 7
        }
      ]
    },
    {
      "cell_type": "code",
      "metadata": {
        "id": "dOdtLWc-Yu0q",
        "colab_type": "code",
        "outputId": "a094a478-86b1-48bf-bb7b-290e07a993f7",
        "colab": {
          "base_uri": "https://localhost:8080/",
          "height": 34
        }
      },
      "source": [
        "from tqdm import tqdm\n",
        "preprocessed_train_data = []\n",
        "# tqdm is for printing the status bar\n",
        "for sentance in tqdm(train_data['STORY'].values):\n",
        "    sent = decontracted(sentance)\n",
        "    sent = sent.replace('\\\\r', ' ')\n",
        "    sent = sent.replace('\\\\\"', ' ')\n",
        "    sent = sent.replace('\\\\n', ' ')\n",
        "    sent = re.sub('[^A-Za-z0-9]+', ' ', sent)\n",
        "    # https://gist.github.com/sebleier/554280\n",
        "    sent = ' '.join(e for e in sent.split() if e not in stopwords)\n",
        "    preprocessed_train_data.append(sent.lower().strip())\n"
      ],
      "execution_count": 0,
      "outputs": [
        {
          "output_type": "stream",
          "text": [
            "100%|██████████| 7628/7628 [00:02<00:00, 3408.83it/s]\n"
          ],
          "name": "stderr"
        }
      ]
    },
    {
      "cell_type": "code",
      "metadata": {
        "id": "ZPNNu_xmYwW9",
        "colab_type": "code",
        "colab": {}
      },
      "source": [
        "train_data['preprocessed_STORY'] = preprocessed_train_data\n",
        "train_data.drop(['STORY'], axis=1, inplace=True)"
      ],
      "execution_count": 0,
      "outputs": []
    },
    {
      "cell_type": "code",
      "metadata": {
        "id": "rt9jdkf6YwR_",
        "colab_type": "code",
        "outputId": "7a0c2814-ed2c-4ab2-9e06-40a19fa2fa11",
        "colab": {
          "base_uri": "https://localhost:8080/",
          "height": 34
        }
      },
      "source": [
        "from tqdm import tqdm\n",
        "preprocessed_test_data = []\n",
        "# tqdm is for printing the status bar\n",
        "for sentance in tqdm(test_data['STORY'].values):\n",
        "    sent = decontracted(sentance)\n",
        "    sent = sent.replace('\\\\r', ' ')\n",
        "    sent = sent.replace('\\\\\"', ' ')\n",
        "    sent = sent.replace('\\\\n', ' ')\n",
        "    sent = re.sub('[^A-Za-z0-9]+', ' ', sent)\n",
        "    # https://gist.github.com/sebleier/554280\n",
        "    sent = ' '.join(e for e in sent.split() if e not in stopwords)\n",
        "    preprocessed_test_data.append(sent.lower().strip())"
      ],
      "execution_count": 0,
      "outputs": [
        {
          "output_type": "stream",
          "text": [
            "100%|██████████| 2748/2748 [00:00<00:00, 3397.99it/s]\n"
          ],
          "name": "stderr"
        }
      ]
    },
    {
      "cell_type": "code",
      "metadata": {
        "id": "dsQb1Zf8YwN-",
        "colab_type": "code",
        "colab": {}
      },
      "source": [
        "test_data['preprocessed_STORY'] = preprocessed_test_data\n",
        "test_data.drop(['STORY'], axis=1, inplace=True)"
      ],
      "execution_count": 0,
      "outputs": []
    },
    {
      "cell_type": "code",
      "metadata": {
        "id": "ZYyCxwXnY2Xj",
        "colab_type": "code",
        "outputId": "468a81d2-c352-403e-a50a-a878bc0eff60",
        "colab": {
          "base_uri": "https://localhost:8080/",
          "height": 34
        }
      },
      "source": [
        "train_data['preprocessed_STORY']\n",
        "\n",
        "train_data.shape\n",
        "\n",
        "train_data.columns"
      ],
      "execution_count": 0,
      "outputs": [
        {
          "output_type": "execute_result",
          "data": {
            "text/plain": [
              "Index(['SECTION', 'preprocessed_STORY'], dtype='object')"
            ]
          },
          "metadata": {
            "tags": []
          },
          "execution_count": 12
        }
      ]
    },
    {
      "cell_type": "markdown",
      "metadata": {
        "id": "yizl1S9kY8dE",
        "colab_type": "text"
      },
      "source": [
        "## Splitting Dataset"
      ]
    },
    {
      "cell_type": "code",
      "metadata": {
        "id": "PuKey_AaY2RC",
        "colab_type": "code",
        "colab": {}
      },
      "source": [
        "import numpy as np\n",
        "import pandas as pd\n",
        "import matplotlib.pyplot as plt\n",
        "from sklearn import model_selection\n",
        "from sklearn.model_selection import train_test_split\n",
        "from sklearn.neighbors import KNeighborsClassifier\n",
        "from sklearn.metrics import accuracy_score\n",
        "\n",
        "from collections import Counter\n",
        "from sklearn.metrics import accuracy_score\n",
        "\n",
        "from sklearn.model_selection import cross_val_score\n",
        "from sklearn.model_selection import cross_validate"
      ],
      "execution_count": 0,
      "outputs": []
    },
    {
      "cell_type": "code",
      "metadata": {
        "id": "5shWktAjZD1G",
        "colab_type": "code",
        "outputId": "7f80ff1c-82fa-43b6-c8da-b0f32f2ce86f",
        "colab": {
          "base_uri": "https://localhost:8080/",
          "height": 49
        }
      },
      "source": [
        "train_data[train_data.isnull().any(axis=1)]"
      ],
      "execution_count": 0,
      "outputs": [
        {
          "output_type": "execute_result",
          "data": {
            "text/html": [
              "<div>\n",
              "<style scoped>\n",
              "    .dataframe tbody tr th:only-of-type {\n",
              "        vertical-align: middle;\n",
              "    }\n",
              "\n",
              "    .dataframe tbody tr th {\n",
              "        vertical-align: top;\n",
              "    }\n",
              "\n",
              "    .dataframe thead th {\n",
              "        text-align: right;\n",
              "    }\n",
              "</style>\n",
              "<table border=\"1\" class=\"dataframe\">\n",
              "  <thead>\n",
              "    <tr style=\"text-align: right;\">\n",
              "      <th></th>\n",
              "      <th>SECTION</th>\n",
              "      <th>preprocessed_STORY</th>\n",
              "    </tr>\n",
              "  </thead>\n",
              "  <tbody>\n",
              "  </tbody>\n",
              "</table>\n",
              "</div>"
            ],
            "text/plain": [
              "Empty DataFrame\n",
              "Columns: [SECTION, preprocessed_STORY]\n",
              "Index: []"
            ]
          },
          "metadata": {
            "tags": []
          },
          "execution_count": 14
        }
      ]
    },
    {
      "cell_type": "code",
      "metadata": {
        "id": "JbLhi85sZGxK",
        "colab_type": "code",
        "outputId": "5e5f870a-f0a9-44d8-c285-998a58a95c09",
        "colab": {
          "base_uri": "https://localhost:8080/",
          "height": 34
        }
      },
      "source": [
        "y=train_data['SECTION']\n",
        "y.shape"
      ],
      "execution_count": 0,
      "outputs": [
        {
          "output_type": "execute_result",
          "data": {
            "text/plain": [
              "(7628,)"
            ]
          },
          "metadata": {
            "tags": []
          },
          "execution_count": 15
        }
      ]
    },
    {
      "cell_type": "code",
      "metadata": {
        "id": "k_XH6oKKZGro",
        "colab_type": "code",
        "colab": {}
      },
      "source": [
        "# split the data into test and train by maintaining same distribution of output varaible 'y_true'\n",
        "X_train, test_df, y_train, y_test = train_test_split(train_data, y, test_size=0.2)\n",
        "# split the train data into train and cross validation by maintaining same distribution of output varaible 'y_train'\n",
        "train_df, cv_df, y_train, y_cv = train_test_split(X_train, y_train, test_size=0.2)"
      ],
      "execution_count": 0,
      "outputs": []
    },
    {
      "cell_type": "code",
      "metadata": {
        "id": "ADHOjPCnZUhE",
        "colab_type": "code",
        "outputId": "f493b9c3-1a26-4b5a-f3f3-6f44e55dccdb",
        "colab": {
          "base_uri": "https://localhost:8080/",
          "height": 68
        }
      },
      "source": [
        "print('Number of data points in train data:', train_df.shape[0])\n",
        "print('Number of data points in test data:', test_df.shape[0])\n",
        "print('Number of data points in cross validation data:', cv_df.shape[0])"
      ],
      "execution_count": 0,
      "outputs": [
        {
          "output_type": "stream",
          "text": [
            "Number of data points in train data: 4881\n",
            "Number of data points in test data: 1526\n",
            "Number of data points in cross validation data: 1221\n"
          ],
          "name": "stdout"
        }
      ]
    },
    {
      "cell_type": "code",
      "metadata": {
        "id": "yrnap4OnZXkU",
        "colab_type": "code",
        "outputId": "7cf9d5ad-0dcc-4b02-e052-a82e956e0d8d",
        "colab": {
          "base_uri": "https://localhost:8080/",
          "height": 34
        }
      },
      "source": [
        "train_class_distribution = train_df['SECTION'].value_counts()\n",
        "type(train_class_distribution)"
      ],
      "execution_count": 0,
      "outputs": [
        {
          "output_type": "execute_result",
          "data": {
            "text/plain": [
              "pandas.core.series.Series"
            ]
          },
          "metadata": {
            "tags": []
          },
          "execution_count": 18
        }
      ]
    },
    {
      "cell_type": "markdown",
      "metadata": {
        "id": "L4Y0u8APZiir",
        "colab_type": "text"
      },
      "source": [
        "## Distribution of y_i's in Train, Test and Cross Validation datasets"
      ]
    },
    {
      "cell_type": "code",
      "metadata": {
        "id": "8tU5o5RyZiG3",
        "colab_type": "code",
        "outputId": "fb645b2a-a2b8-492f-cc59-ba8bea6fdc45",
        "colab": {
          "base_uri": "https://localhost:8080/",
          "height": 1000
        }
      },
      "source": [
        "train_class_distribution = train_df['SECTION'].value_counts().sort_index()\n",
        "test_class_distribution = test_df['SECTION'].value_counts().sort_index()\n",
        "cv_class_distribution = cv_df['SECTION'].value_counts().sort_index()\n",
        "\n",
        "my_colors = 'rgbkymc'\n",
        "train_class_distribution.plot(kind='bar')\n",
        "plt.xlabel('SECTION')\n",
        "plt.ylabel('Data points per Class')\n",
        "plt.title('Distribution of yi in train data')\n",
        "plt.grid()\n",
        "plt.show()\n",
        "\n",
        "sorted_yi = np.argsort(-train_class_distribution.values)\n",
        "for i in sorted_yi:\n",
        "    print('Number of data points in class', i+1, ':',train_class_distribution.values[i], '(', np.round((train_class_distribution.values[i]/train_df.shape[0]*100), 3), '%)')\n",
        "\n",
        "    \n",
        "print('-'*80)\n",
        "my_colors = 'rgbkymc'\n",
        "test_class_distribution.plot(kind='bar')\n",
        "plt.xlabel('SECTION')\n",
        "plt.ylabel('Data points per Class')\n",
        "plt.title('Distribution of yi in test data')\n",
        "plt.grid()\n",
        "plt.show()\n",
        "\n",
        "\n",
        "sorted_yi = np.argsort(-test_class_distribution.values)\n",
        "for i in sorted_yi:\n",
        "    print('Number of data points in class', i+1, ':',test_class_distribution.values[i], '(', np.round((test_class_distribution.values[i]/test_df.shape[0]*100), 3), '%)')\n",
        "\n",
        "print('-'*80)\n",
        "my_colors = 'rgbkymc'\n",
        "cv_class_distribution.plot(kind='bar')\n",
        "plt.xlabel('SECTION')\n",
        "plt.ylabel('Data points per Class')\n",
        "plt.title('Distribution of yi in cross validation data')\n",
        "plt.grid()\n",
        "plt.show()\n",
        "\n",
        "\n",
        "sorted_yi = np.argsort(-train_class_distribution.values)\n",
        "for i in sorted_yi:\n",
        "    print('Number of data points in class', i+1, ':',cv_class_distribution.values[i], '(', np.round((cv_class_distribution.values[i]/cv_df.shape[0]*100), 3), '%)')\n"
      ],
      "execution_count": 0,
      "outputs": [
        {
          "output_type": "display_data",
          "data": {
            "image/png": "[encoded data removed]",
            "text/plain": [
              "<Figure size 432x288 with 1 Axes>"
            ]
          },
          "metadata": {
            "tags": []
          }
        },
        {
          "output_type": "stream",
          "text": [
            "Number of data points in class 2 : 1795 ( 36.775 %)\n",
            "Number of data points in class 3 : 1206 ( 24.708 %)\n",
            "Number of data points in class 1 : 1081 ( 22.147 %)\n",
            "Number of data points in class 4 : 799 ( 16.37 %)\n",
            "--------------------------------------------------------------------------------\n"
          ],
          "name": "stdout"
        },
        {
          "output_type": "display_data",
          "data": {
            "image/png": "[encoded data removed]",
            "text/plain": [
              "<Figure size 432x288 with 1 Axes>"
            ]
          },
          "metadata": {
            "tags": []
          }
        },
        {
          "output_type": "stream",
          "text": [
            "Number of data points in class 2 : 558 ( 36.566 %)\n",
            "Number of data points in class 3 : 398 ( 26.081 %)\n",
            "Number of data points in class 1 : 326 ( 21.363 %)\n",
            "Number of data points in class 4 : 244 ( 15.99 %)\n",
            "--------------------------------------------------------------------------------\n"
          ],
          "name": "stdout"
        },
        {
          "output_type": "display_data",
          "data": {
            "image/png": "[encoded data removed]",
            "text/plain": [
              "<Figure size 432x288 with 1 Axes>"
            ]
          },
          "metadata": {
            "tags": []
          }
        },
        {
          "output_type": "stream",
          "text": [
            "Number of data points in class 2 : 419 ( 34.316 %)\n",
            "Number of data points in class 3 : 320 ( 26.208 %)\n",
            "Number of data points in class 1 : 279 ( 22.85 %)\n",
            "Number of data points in class 4 : 203 ( 16.626 %)\n"
          ],
          "name": "stdout"
        }
      ]
    },
    {
      "cell_type": "markdown",
      "metadata": {
        "id": "WMMukDDYaVqh",
        "colab_type": "text"
      },
      "source": [
        "## Univariate Analysis on Text Feature"
      ]
    },
    {
      "cell_type": "code",
      "metadata": {
        "id": "rsamBcYdZmpo",
        "colab_type": "code",
        "outputId": "9fcc06f6-0d21-4e73-8ee4-65470246d245",
        "colab": {
          "base_uri": "https://localhost:8080/",
          "height": 34
        }
      },
      "source": [
        "train_data.columns"
      ],
      "execution_count": 0,
      "outputs": [
        {
          "output_type": "execute_result",
          "data": {
            "text/plain": [
              "Index(['SECTION', 'preprocessed_STORY'], dtype='object')"
            ]
          },
          "metadata": {
            "tags": []
          },
          "execution_count": 20
        }
      ]
    },
    {
      "cell_type": "code",
      "metadata": {
        "id": "VN_mpQd8Zo1r",
        "colab_type": "code",
        "colab": {}
      },
      "source": [
        "import collections\n",
        "from collections import defaultdict\n",
        "\n",
        "def extract_dictionary_paddle(cls_text):\n",
        "    dictionary = defaultdict(int)\n",
        "    for index, row in cls_text.iterrows():\n",
        "        for word in row['preprocessed_STORY'].split():\n",
        "            dictionary[word] +=1\n",
        "    return dictionary\n"
      ],
      "execution_count": 0,
      "outputs": []
    },
    {
      "cell_type": "code",
      "metadata": {
        "id": "LtJ4gvw8Zmm1",
        "colab_type": "code",
        "colab": {}
      },
      "source": [
        "import math\n",
        "#https://stackoverflow.com/a/1602964\n",
        "def get_text_responsecoding(df):\n",
        "    text_feature_responseCoding = np.zeros((df.shape[0],4))\n",
        "    for i in range(0,3):\n",
        "        row_index = 0\n",
        "        for index, row in df.iterrows():\n",
        "            sum_prob = 0\n",
        "            for word in row['preprocessed_STORY'].split():\n",
        "                sum_prob += math.log(((dict_list[i].get(word,0)+10 )/(total_dict.get(word,0)+40)))\n",
        "            text_feature_responseCoding[row_index][i] = math.exp(sum_prob/len(row['preprocessed_STORY'].split()))\n",
        "            row_index += 1\n",
        "    return text_feature_responseCoding\n"
      ],
      "execution_count": 0,
      "outputs": []
    },
    {
      "cell_type": "code",
      "metadata": {
        "id": "--ZzbAp7aqLM",
        "colab_type": "code",
        "outputId": "946a7534-85d2-4c97-bfad-08c672261c88",
        "colab": {
          "base_uri": "https://localhost:8080/",
          "height": 34
        }
      },
      "source": [
        "# building a CountVectorizer with all the words that occured minimum 3 times in train data\n",
        "text_vectorizer = CountVectorizer(min_df=2)\n",
        "train_text_feature_onehotCoding = text_vectorizer.fit_transform(train_df['preprocessed_STORY'])\n",
        "# getting all the feature names (words)\n",
        "train_text_features= text_vectorizer.get_feature_names()\n",
        "\n",
        "# train_text_feature_onehotCoding.sum(axis=0).A1 will sum every row and returns (1*number of features) vector\n",
        "train_text_fea_counts = train_text_feature_onehotCoding.sum(axis=0).A1\n",
        "\n",
        "# zip(list(text_features),text_fea_counts) will zip a word with its number of times it occured\n",
        "text_fea_dict = dict(zip(list(train_text_features),train_text_fea_counts))\n",
        "\n",
        "\n",
        "print(\"Total number of unique words in train data :\", len(train_text_features))"
      ],
      "execution_count": 0,
      "outputs": [
        {
          "output_type": "stream",
          "text": [
            "Total number of unique words in train data : 15392\n"
          ],
          "name": "stdout"
        }
      ]
    },
    {
      "cell_type": "code",
      "metadata": {
        "id": "G8MDpKrCaqGL",
        "colab_type": "code",
        "colab": {}
      },
      "source": [
        "dict_list = []\n",
        "# dict_list =[] contains 4 dictoinaries each corresponds to a class\n",
        "for i in range(0,3):\n",
        "    cls_text = train_df[train_df['SECTION']==i]\n",
        "    # build a word dict based on the words in that class\n",
        "    dict_list.append(extract_dictionary_paddle(cls_text))\n",
        "    # append it to dict_list\n",
        "\n",
        "# dict_list[i] is build on i'th  class text data\n",
        "# total_dict is buid on whole training text data\n",
        "total_dict = extract_dictionary_paddle(train_df)\n",
        "\n",
        "\n",
        "confuse_array = []\n",
        "for i in train_text_features:\n",
        "    ratios = []\n",
        "    max_val = -1\n",
        "    for j in range(0,3):\n",
        "        ratios.append((dict_list[j][i]+10 )/(total_dict[i]+40))\n",
        "    confuse_array.append(ratios)\n",
        "confuse_array = np.array(confuse_array)"
      ],
      "execution_count": 0,
      "outputs": []
    },
    {
      "cell_type": "code",
      "metadata": {
        "id": "WSzBe3W3a-f9",
        "colab_type": "code",
        "colab": {}
      },
      "source": [
        "#response coding of text features\n",
        "train_text_feature_responseCoding  = get_text_responsecoding(train_df)\n",
        "test_text_feature_responseCoding  = get_text_responsecoding(test_df)\n",
        "cv_text_feature_responseCoding  = get_text_responsecoding(cv_df)"
      ],
      "execution_count": 0,
      "outputs": []
    },
    {
      "cell_type": "code",
      "metadata": {
        "id": "TC1SAep-a-cB",
        "colab_type": "code",
        "colab": {}
      },
      "source": [
        "train_text_feature_responseCoding = (train_text_feature_responseCoding.T/train_text_feature_responseCoding.sum(axis=1)).T\n",
        "test_text_feature_responseCoding = (test_text_feature_responseCoding.T/test_text_feature_responseCoding.sum(axis=1)).T\n",
        "cv_text_feature_responseCoding = (cv_text_feature_responseCoding.T/cv_text_feature_responseCoding.sum(axis=1)).T"
      ],
      "execution_count": 0,
      "outputs": []
    },
    {
      "cell_type": "code",
      "metadata": {
        "id": "kB_-glSOa-Xb",
        "colab_type": "code",
        "colab": {}
      },
      "source": [
        "from sklearn.preprocessing import Normalizer\n",
        "# don't forget to normalize every feature\n",
        "train_text_feature_onehotCoding = normalize(train_text_feature_onehotCoding, axis=0)\n",
        "\n",
        "# we use the same vectorizer that was trained on train data\n",
        "test_text_feature_onehotCoding = text_vectorizer.transform(test_df['preprocessed_STORY'])\n",
        "# don't forget to normalize every feature\n",
        "test_text_feature_onehotCoding = normalize(test_text_feature_onehotCoding, axis=0)\n",
        "\n",
        "# we use the same vectorizer that was trained on train data\n",
        "cv_text_feature_onehotCoding = text_vectorizer.transform(cv_df['preprocessed_STORY'])\n",
        "# don't forget to normalize every feature\n",
        "cv_text_feature_onehotCoding = normalize(cv_text_feature_onehotCoding, axis=0)"
      ],
      "execution_count": 0,
      "outputs": []
    },
    {
      "cell_type": "code",
      "metadata": {
        "id": "38HRGUOWbOaY",
        "colab_type": "code",
        "colab": {}
      },
      "source": [
        "# we use the same vectorizer that was trained on train data\n",
        "data_test_text__onehotCoding = text_vectorizer.transform(test_data['preprocessed_STORY'])\n",
        "# don't forget to normalize every feature\n",
        "data_test__onehotCoding = normalize(data_test_text__onehotCoding, axis=0)"
      ],
      "execution_count": 0,
      "outputs": []
    },
    {
      "cell_type": "code",
      "metadata": {
        "id": "iaiJ9oOfbOL9",
        "colab_type": "code",
        "colab": {}
      },
      "source": [
        "sorted_text_fea_dict = dict(sorted(text_fea_dict.items(), key=lambda x: x[1] , reverse=True))\n",
        "sorted_text_occur = np.array(list(sorted_text_fea_dict.values()))"
      ],
      "execution_count": 0,
      "outputs": []
    },
    {
      "cell_type": "code",
      "metadata": {
        "id": "NZi1V8w3bTPT",
        "colab_type": "code",
        "outputId": "68394ecd-242e-4f6b-d7e2-1c23ebab26cf",
        "colab": {
          "base_uri": "https://localhost:8080/",
          "height": 54
        }
      },
      "source": [
        "print(Counter(sorted_text_occur))"
      ],
      "execution_count": 0,
      "outputs": [
        {
          "output_type": "stream",
          "text": [
            "Counter({2: 3627, 3: 2106, 4: 1391, 5: 1019, 6: 773, 7: 564, 8: 507, 9: 411, 10: 335, 11: 292, 12: 241, 14: 211, 13: 205, 15: 159, 16: 152, 17: 141, 18: 140, 21: 126, 19: 126, 20: 124, 22: 97, 24: 94, 25: 91, 23: 86, 27: 71, 26: 70, 30: 67, 29: 59, 35: 56, 31: 53, 34: 51, 36: 50, 28: 50, 39: 49, 33: 42, 38: 41, 32: 40, 41: 39, 37: 37, 56: 36, 45: 34, 40: 31, 49: 30, 46: 30, 52: 29, 51: 29, 48: 29, 47: 29, 43: 29, 42: 28, 54: 26, 53: 23, 44: 23, 73: 19, 66: 19, 62: 19, 57: 19, 55: 19, 50: 19, 63: 18, 83: 17, 60: 17, 74: 16, 70: 16, 64: 16, 59: 16, 58: 16, 69: 15, 61: 15, 85: 14, 68: 14, 78: 13, 71: 13, 95: 12, 86: 12, 80: 12, 105: 11, 79: 11, 75: 11, 72: 11, 120: 10, 90: 10, 89: 10, 87: 10, 77: 10, 76: 10, 67: 10, 65: 10, 101: 9, 94: 9, 92: 9, 81: 9, 153: 8, 127: 8, 126: 8, 121: 8, 104: 8, 103: 8, 100: 8, 88: 8, 146: 7, 143: 7, 134: 7, 125: 7, 106: 7, 98: 7, 176: 6, 160: 6, 140: 6, 129: 6, 123: 6, 122: 6, 119: 6, 116: 6, 115: 6, 114: 6, 111: 6, 107: 6, 97: 6, 91: 6, 84: 6, 233: 5, 204: 5, 190: 5, 184: 5, 169: 5, 148: 5, 144: 5, 141: 5, 136: 5, 128: 5, 124: 5, 108: 5, 102: 5, 99: 5, 296: 4, 232: 4, 228: 4, 197: 4, 179: 4, 174: 4, 165: 4, 164: 4, 157: 4, 154: 4, 145: 4, 142: 4, 137: 4, 133: 4, 132: 4, 130: 4, 118: 4, 113: 4, 109: 4, 93: 4, 469: 3, 286: 3, 283: 3, 280: 3, 250: 3, 242: 3, 215: 3, 212: 3, 207: 3, 201: 3, 194: 3, 189: 3, 180: 3, 175: 3, 172: 3, 171: 3, 170: 3, 162: 3, 161: 3, 156: 3, 151: 3, 150: 3, 149: 3, 138: 3, 131: 3, 117: 3, 112: 3, 110: 3, 96: 3, 1192: 2, 673: 2, 510: 2, 443: 2, 369: 2, 355: 2, 354: 2, 344: 2, 333: 2, 325: 2, 321: 2, 319: 2, 304: 2, 290: 2, 282: 2, 281: 2, 279: 2, 278: 2, 269: 2, 268: 2, 266: 2, 264: 2, 259: 2, 257: 2, 247: 2, 245: 2, 239: 2, 238: 2, 230: 2, 227: 2, 223: 2, 220: 2, 218: 2, 211: 2, 209: 2, 208: 2, 203: 2, 199: 2, 195: 2, 193: 2, 192: 2, 186: 2, 185: 2, 181: 2, 173: 2, 168: 2, 167: 2, 166: 2, 159: 2, 158: 2, 155: 2, 152: 2, 147: 2, 139: 2, 82: 2, 5103: 1, 2347: 1, 1817: 1, 1718: 1, 1474: 1, 1289: 1, 1248: 1, 1188: 1, 1113: 1, 1018: 1, 972: 1, 906: 1, 901: 1, 843: 1, 786: 1, 778: 1, 747: 1, 733: 1, 709: 1, 701: 1, 690: 1, 675: 1, 666: 1, 657: 1, 643: 1, 634: 1, 631: 1, 619: 1, 610: 1, 568: 1, 545: 1, 533: 1, 531: 1, 529: 1, 520: 1, 517: 1, 511: 1, 499: 1, 496: 1, 495: 1, 489: 1, 471: 1, 464: 1, 449: 1, 447: 1, 445: 1, 444: 1, 440: 1, 438: 1, 433: 1, 425: 1, 418: 1, 412: 1, 410: 1, 391: 1, 388: 1, 387: 1, 381: 1, 379: 1, 378: 1, 373: 1, 368: 1, 363: 1, 362: 1, 357: 1, 353: 1, 351: 1, 347: 1, 346: 1, 340: 1, 335: 1, 331: 1, 330: 1, 323: 1, 322: 1, 316: 1, 315: 1, 313: 1, 310: 1, 309: 1, 308: 1, 307: 1, 305: 1, 298: 1, 295: 1, 292: 1, 288: 1, 285: 1, 284: 1, 275: 1, 274: 1, 273: 1, 271: 1, 270: 1, 262: 1, 261: 1, 260: 1, 258: 1, 256: 1, 249: 1, 248: 1, 241: 1, 237: 1, 235: 1, 234: 1, 231: 1, 225: 1, 224: 1, 222: 1, 221: 1, 214: 1, 213: 1, 206: 1, 205: 1, 202: 1, 200: 1, 191: 1, 188: 1, 187: 1, 183: 1, 182: 1, 178: 1, 177: 1, 135: 1})\n"
          ],
          "name": "stdout"
        }
      ]
    },
    {
      "cell_type": "code",
      "metadata": {
        "id": "NVM4wnKQbTLO",
        "colab_type": "code",
        "outputId": "c3593a00-43e8-406a-d195-a365b7f93f0c",
        "colab": {
          "base_uri": "https://localhost:8080/",
          "height": 448
        }
      },
      "source": [
        "# Train a Logistic regression+Calibration model using text features whicha re on-hot encoded\n",
        "alpha = [10 ** x for x in range(-5, 1)]\n",
        "\n",
        "cv_log_error_array=[]\n",
        "for i in alpha:\n",
        "    clf = SGDClassifier(alpha=i, penalty='l2', loss='log', random_state=42)\n",
        "    clf.fit(train_text_feature_onehotCoding, y_train)\n",
        "    \n",
        "    sig_clf = CalibratedClassifierCV(clf, method=\"sigmoid\")\n",
        "    sig_clf.fit(train_text_feature_onehotCoding, y_train)\n",
        "    predict_y = sig_clf.predict_proba(cv_text_feature_onehotCoding)\n",
        "    cv_log_error_array.append(log_loss(y_cv, predict_y, labels=clf.classes_, eps=1e-15))\n",
        "    print('For values of alpha = ', i, \"The log loss is:\",log_loss(y_cv, predict_y, labels=clf.classes_, eps=1e-15))\n",
        "\n",
        "fig, ax = plt.subplots()\n",
        "ax.plot(alpha, cv_log_error_array,c='g')\n",
        "for i, txt in enumerate(np.round(cv_log_error_array,3)):\n",
        "    ax.annotate((alpha[i],np.round(txt,3)), (alpha[i],cv_log_error_array[i]))\n",
        "plt.grid()\n",
        "plt.title(\"Cross Validation Error for each alpha\")\n",
        "plt.xlabel(\"Alpha i's\")\n",
        "plt.ylabel(\"Error measure\")\n",
        "plt.show()\n",
        "\n",
        "best_alpha = np.argmin(cv_log_error_array)\n",
        "clf = SGDClassifier(alpha=alpha[best_alpha], penalty='l2', loss='log', random_state=42)\n",
        "clf.fit(train_text_feature_onehotCoding, y_train)\n",
        "sig_clf = CalibratedClassifierCV(clf, method=\"sigmoid\")\n",
        "sig_clf.fit(train_text_feature_onehotCoding, y_train)\n",
        "\n",
        "predict_y = sig_clf.predict_proba(train_text_feature_onehotCoding)\n",
        "print('For values of best alpha = ', alpha[best_alpha], \"The train log loss is:\",log_loss(y_train, predict_y, labels=clf.classes_, eps=1e-15))\n",
        "predict_y = sig_clf.predict_proba(cv_text_feature_onehotCoding)\n",
        "print('For values of best alpha = ', alpha[best_alpha], \"The cross validation log loss is:\",log_loss(y_cv, predict_y, labels=clf.classes_, eps=1e-15))\n",
        "predict_y = sig_clf.predict_proba(test_text_feature_onehotCoding)\n",
        "print('For values of best alpha = ', alpha[best_alpha], \"The test log loss is:\",log_loss(y_test, predict_y, labels=clf.classes_, eps=1e-15))\n"
      ],
      "execution_count": 0,
      "outputs": [
        {
          "output_type": "stream",
          "text": [
            "For values of alpha =  1e-05 The log loss is: 0.10998031510152115\n",
            "For values of alpha =  0.0001 The log loss is: 0.10842857267919888\n",
            "For values of alpha =  0.001 The log loss is: 0.11904716012533001\n",
            "For values of alpha =  0.01 The log loss is: 0.15813804240734972\n",
            "For values of alpha =  0.1 The log loss is: 0.18515670641661394\n",
            "For values of alpha =  1 The log loss is: 0.19628647824145845\n"
          ],
          "name": "stdout"
        },
        {
          "output_type": "display_data",
          "data": {
            "image/png": "[encoded data removed]",
            "text/plain": [
              "<Figure size 432x288 with 1 Axes>"
            ]
          },
          "metadata": {
            "tags": []
          }
        },
        {
          "output_type": "stream",
          "text": [
            "For values of best alpha =  0.0001 The train log loss is: 0.05898349780347368\n",
            "For values of best alpha =  0.0001 The cross validation log loss is: 0.10842857267919888\n",
            "For values of best alpha =  0.0001 The test log loss is: 0.14240273425385155\n"
          ],
          "name": "stdout"
        }
      ]
    },
    {
      "cell_type": "markdown",
      "metadata": {
        "id": "6HSU1n7oboeJ",
        "colab_type": "text"
      },
      "source": [
        "### Text feature stable across all the data sets (Test, Train, Cross validation)"
      ]
    },
    {
      "cell_type": "code",
      "metadata": {
        "id": "PMLSmS-Nbs1l",
        "colab_type": "code",
        "outputId": "d6183961-3f2c-44c8-d1e6-f8b418f9b2b4",
        "colab": {
          "base_uri": "https://localhost:8080/",
          "height": 51
        }
      },
      "source": [
        "def get_intersec_text(df):\n",
        "    df_text_vec = CountVectorizer(min_df=3)\n",
        "    df_text_fea = df_text_vec.fit_transform(df['preprocessed_STORY'])\n",
        "    df_text_features = df_text_vec.get_feature_names()\n",
        "\n",
        "    df_text_fea_counts = df_text_fea.sum(axis=0).A1\n",
        "    df_text_fea_dict = dict(zip(list(df_text_features),df_text_fea_counts))\n",
        "    len1 = len(set(df_text_features))\n",
        "    len2 = len(set(train_text_features) & set(df_text_features))\n",
        "    return len1,len2\n",
        "\n",
        "len1,len2 = get_intersec_text(test_df)\n",
        "print(np.round((len2/len1)*100, 3), \"% of word of test data appeared in train data\")\n",
        "len1,len2 = get_intersec_text(cv_df)\n",
        "print(np.round((len2/len1)*100, 3), \"% of word of Cross Validation appeared in train data\")"
      ],
      "execution_count": 0,
      "outputs": [
        {
          "output_type": "stream",
          "text": [
            "98.236 % of word of test data appeared in train data\n",
            "98.596 % of word of Cross Validation appeared in train data\n"
          ],
          "name": "stdout"
        }
      ]
    },
    {
      "cell_type": "markdown",
      "metadata": {
        "id": "vwfwoMsdbvmW",
        "colab_type": "text"
      },
      "source": [
        "# Machine Learning Models"
      ]
    },
    {
      "cell_type": "code",
      "metadata": {
        "id": "fGMM5RLGbsyb",
        "colab_type": "code",
        "colab": {}
      },
      "source": [
        "def predict_and_plot_confusion_matrix(train_x, train_y,test_x, test_y, clf):\n",
        "    clf.fit(train_x, train_y)\n",
        "    sig_clf = CalibratedClassifierCV(clf, method=\"sigmoid\")\n",
        "    sig_clf.fit(train_x, train_y)\n",
        "    pred_y = sig_clf.predict(test_x)\n",
        "\n",
        "    # for calculating log_loss we willl provide the array of probabilities belongs to each class\n",
        "    print(\"Log loss :\",log_loss(test_y, sig_clf.predict_proba(test_x)))\n",
        "    # calculating the number of data points that are misclassified\n",
        "    print(\"Number of mis-classified points :\", np.count_nonzero((pred_y- test_y))/test_y.shape[0])\n",
        "    plot_confusion_matrix(test_y, pred_y)"
      ],
      "execution_count": 0,
      "outputs": []
    },
    {
      "cell_type": "code",
      "metadata": {
        "id": "afFU1RD0b4Qg",
        "colab_type": "code",
        "colab": {}
      },
      "source": [
        "def report_log_loss(train_x, train_y, test_x, test_y,  clf):\n",
        "    clf.fit(train_x, train_y)\n",
        "    sig_clf = CalibratedClassifierCV(clf, method=\"sigmoid\")\n",
        "    sig_clf.fit(train_x, train_y)\n",
        "    sig_clf_probs = sig_clf.predict_proba(test_x)\n",
        "    return log_loss(test_y, sig_clf_probs, eps=1e-15)"
      ],
      "execution_count": 0,
      "outputs": []
    },
    {
      "cell_type": "code",
      "metadata": {
        "id": "1P_ZBkYkb4yj",
        "colab_type": "code",
        "colab": {}
      },
      "source": [
        "\n",
        "def plot_confusion_matrix(test_y, predict_y):\n",
        "    C = confusion_matrix(test_y, predict_y)\n",
        "\n",
        "    \n",
        "    A =(((C.T)/(C.sum(axis=1))).T)\n",
        "    B =(C/C.sum(axis=0))\n",
        "    \n",
        "    labels = [0,1,2]\n",
        "    # representing A in heatmap format\n",
        "    print(\"-\"*20, \"Confusion matrix\", \"-\"*20)\n",
        "    plt.figure(figsize=(20,7))\n",
        "    sns.heatmap(C, annot=True, cmap=\"YlGnBu\", fmt=\".3f\", xticklabels=labels, yticklabels=labels)\n",
        "    plt.xlabel('Predicted Class')\n",
        "    plt.ylabel('Original Class')\n",
        "    plt.show()\n",
        "\n",
        "    print(\"-\"*20, \"Precision matrix (Columm Sum=1)\", \"-\"*20)\n",
        "    plt.figure(figsize=(20,7))\n",
        "    sns.heatmap(B, annot=True, cmap=\"YlGnBu\", fmt=\".3f\", xticklabels=labels, yticklabels=labels)\n",
        "    plt.xlabel('Predicted Class')\n",
        "    plt.ylabel('Original Class')\n",
        "    plt.show()\n",
        "    \n",
        "    # representing B in heatmap format\n",
        "    print(\"-\"*20, \"Recall matrix (Row sum=1)\", \"-\"*20)\n",
        "    plt.figure(figsize=(20,7))\n",
        "    sns.heatmap(A, annot=True, cmap=\"YlGnBu\", fmt=\".3f\", xticklabels=labels, yticklabels=labels)\n",
        "    plt.xlabel('Predicted Class')\n",
        "    plt.ylabel('Original Class')\n",
        "    plt.show()"
      ],
      "execution_count": 0,
      "outputs": []
    },
    {
      "cell_type": "markdown",
      "metadata": {
        "id": "6ZwZLxf8cC9E",
        "colab_type": "text"
      },
      "source": [
        "### Prepare final  dataset"
      ]
    },
    {
      "cell_type": "code",
      "metadata": {
        "id": "mIZhvqK5cKGt",
        "colab_type": "code",
        "colab": {}
      },
      "source": [
        "train_x_onehotCoding = ((train_text_feature_onehotCoding)).tocsr()\n",
        "train_y = np.array(list(train_df['SECTION']))\n",
        "\n",
        "test_x_onehotCoding = ((test_text_feature_onehotCoding)).tocsr()\n",
        "test_y = np.array(list(test_df['SECTION']))\n",
        "\n",
        "cv_x_onehotCoding = ((cv_text_feature_onehotCoding)).tocsr()\n",
        "cv_y = np.array(list(cv_df['SECTION']))"
      ],
      "execution_count": 0,
      "outputs": []
    },
    {
      "cell_type": "code",
      "metadata": {
        "id": "LzGKXeJMcKDm",
        "colab_type": "code",
        "colab": {}
      },
      "source": [
        "train_x_responseCoding = ((train_text_feature_responseCoding))\n",
        "test_x_responseCoding = ((test_text_feature_responseCoding))\n",
        "cv_x_responseCoding = ((cv_text_feature_responseCoding))\n"
      ],
      "execution_count": 0,
      "outputs": []
    },
    {
      "cell_type": "code",
      "metadata": {
        "id": "sAsq25rifsbq",
        "colab_type": "code",
        "outputId": "8c0f1dbb-b162-48fd-f30a-c178a87ae96a",
        "colab": {
          "base_uri": "https://localhost:8080/",
          "height": 34
        }
      },
      "source": [
        "train_data.columns"
      ],
      "execution_count": 0,
      "outputs": [
        {
          "output_type": "execute_result",
          "data": {
            "text/plain": [
              "Index(['SECTION', 'preprocessed_STORY'], dtype='object')"
            ]
          },
          "metadata": {
            "tags": []
          },
          "execution_count": 38
        }
      ]
    },
    {
      "cell_type": "code",
      "metadata": {
        "id": "QfXF13ZUfuPR",
        "colab_type": "code",
        "outputId": "231bf8bf-b402-4487-841f-adb815ee1897",
        "colab": {
          "base_uri": "https://localhost:8080/",
          "height": 102
        }
      },
      "source": [
        "train_data[\"SECTION\"].value_counts()"
      ],
      "execution_count": 0,
      "outputs": [
        {
          "output_type": "execute_result",
          "data": {
            "text/plain": [
              "1    2772\n",
              "2    1924\n",
              "0    1686\n",
              "3    1246\n",
              "Name: SECTION, dtype: int64"
            ]
          },
          "metadata": {
            "tags": []
          },
          "execution_count": 39
        }
      ]
    },
    {
      "cell_type": "code",
      "metadata": {
        "id": "mmo4nfV6fuKN",
        "colab_type": "code",
        "colab": {}
      },
      "source": [
        "def plot_confusion_matrix(test_y, predict_y):\n",
        "    C = confusion_matrix(test_y, predict_y)\n",
        "\n",
        "    \n",
        "    A =(((C.T)/(C.sum(axis=1))).T)\n",
        "    B =(C/C.sum(axis=0))\n",
        "    \n",
        "    labels = [0,1,2,3]\n",
        "    # representing A in heatmap format\n",
        "    print(\"-\"*20, \"Confusion matrix\", \"-\"*20)\n",
        "    plt.figure(figsize=(20,7))\n",
        "    sns.heatmap(C, annot=True, cmap=\"YlGnBu\", fmt=\".3f\", xticklabels=labels, yticklabels=labels)\n",
        "    plt.xlabel('Predicted Class')\n",
        "    plt.ylabel('Original Class')\n",
        "    plt.show()\n",
        "\n",
        "    print(\"-\"*20, \"Precision matrix (Columm Sum=1)\", \"-\"*20)\n",
        "    plt.figure(figsize=(20,7))\n",
        "    sns.heatmap(B, annot=True, cmap=\"YlGnBu\", fmt=\".3f\", xticklabels=labels, yticklabels=labels)\n",
        "    plt.xlabel('Predicted Class')\n",
        "    plt.ylabel('Original Class')\n",
        "    plt.show()\n",
        "    \n",
        "    # representing B in heatmap format\n",
        "    print(\"-\"*20, \"Recall matrix (Row sum=1)\", \"-\"*20)\n",
        "    plt.figure(figsize=(20,7))\n",
        "    sns.heatmap(A, annot=True, cmap=\"YlGnBu\", fmt=\".3f\", xticklabels=labels, yticklabels=labels)\n",
        "    plt.xlabel('Predicted Class')\n",
        "    plt.ylabel('Original Class')\n",
        "    plt.show()\n"
      ],
      "execution_count": 0,
      "outputs": []
    },
    {
      "cell_type": "code",
      "metadata": {
        "id": "-9RsdADzgTif",
        "colab_type": "code",
        "outputId": "05d2f673-d689-4553-fa6d-8b9f9bc79ed2",
        "colab": {
          "base_uri": "https://localhost:8080/",
          "height": 85
        }
      },
      "source": [
        "print(\"One hot encoding features :\")\n",
        "print(\"(number of data points * number of features) in train data = \", train_x_onehotCoding.shape)\n",
        "print(\"(number of data points * number of features) in test data = \", test_x_onehotCoding.shape)\n",
        "print(\"(number of data points * number of features) in cross validation data =\", cv_x_onehotCoding.shape)"
      ],
      "execution_count": 0,
      "outputs": [
        {
          "output_type": "stream",
          "text": [
            "One hot encoding features :\n",
            "(number of data points * number of features) in train data =  (4881, 15392)\n",
            "(number of data points * number of features) in test data =  (1526, 15392)\n",
            "(number of data points * number of features) in cross validation data = (1221, 15392)\n"
          ],
          "name": "stdout"
        }
      ]
    },
    {
      "cell_type": "code",
      "metadata": {
        "id": "2GP1TVVmgQ5C",
        "colab_type": "code",
        "outputId": "7c9b1c61-1e1f-4e2f-8f08-cad57e533f24",
        "colab": {
          "base_uri": "https://localhost:8080/",
          "height": 85
        }
      },
      "source": [
        "print(\" Response encoding features :\")\n",
        "print(\"(number of data points * number of features) in train data = \", train_x_responseCoding.shape)\n",
        "print(\"(number of data points * number of features) in test data = \", test_x_responseCoding.shape)\n",
        "print(\"(number of data points * number of features) in cross validation data =\", cv_x_responseCoding.shape)\n"
      ],
      "execution_count": 0,
      "outputs": [
        {
          "output_type": "stream",
          "text": [
            " Response encoding features :\n",
            "(number of data points * number of features) in train data =  (4881, 4)\n",
            "(number of data points * number of features) in test data =  (1526, 4)\n",
            "(number of data points * number of features) in cross validation data = (1221, 4)\n"
          ],
          "name": "stdout"
        }
      ]
    },
    {
      "cell_type": "markdown",
      "metadata": {
        "id": "dU0JmGjEgy5x",
        "colab_type": "text"
      },
      "source": [
        "## Base Line Model"
      ]
    },
    {
      "cell_type": "markdown",
      "metadata": {
        "id": "-uPZNwWAg2fC",
        "colab_type": "text"
      },
      "source": [
        "## Naive Bayes"
      ]
    },
    {
      "cell_type": "markdown",
      "metadata": {
        "id": "NNP3z76Sg6pZ",
        "colab_type": "text"
      },
      "source": [
        "## Hyper parameter tuning"
      ]
    },
    {
      "cell_type": "code",
      "metadata": {
        "id": "GzArMYc7gwjQ",
        "colab_type": "code",
        "outputId": "a052eed7-9b60-4238-960f-93b79e7bc22f",
        "colab": {
          "base_uri": "https://localhost:8080/",
          "height": 618
        }
      },
      "source": [
        "alpha = [0.00001, 0.0001, 0.001, 0.1, 1, 10, 100,1000]\n",
        "cv_log_error_array = []\n",
        "for i in alpha:\n",
        "    print(\"for alpha =\", i)\n",
        "    clf = MultinomialNB(alpha=i)\n",
        "    clf.fit(train_x_onehotCoding, train_y)\n",
        "    sig_clf = CalibratedClassifierCV(clf, method=\"sigmoid\")\n",
        "    sig_clf.fit(train_x_onehotCoding, train_y)\n",
        "    sig_clf_probs = sig_clf.predict_proba(cv_x_onehotCoding)\n",
        "    cv_log_error_array.append(log_loss(cv_y, sig_clf_probs, labels=clf.classes_, eps=1e-15))\n",
        "    # to avoid rounding error while multiplying probabilites we use log-probability estimates\n",
        "    print(\"Log Loss :\",log_loss(cv_y, sig_clf_probs)) \n",
        "\n",
        "fig, ax = plt.subplots()\n",
        "ax.plot(np.log10(alpha), cv_log_error_array,c='g')\n",
        "for i, txt in enumerate(np.round(cv_log_error_array,3)):\n",
        "    ax.annotate((alpha[i],str(txt)), (np.log10(alpha[i]),cv_log_error_array[i]))\n",
        "plt.grid()\n",
        "plt.xticks(np.log10(alpha))\n",
        "plt.title(\"Cross Validation Error for each alpha\")\n",
        "plt.xlabel(\"Alpha i's\")\n",
        "plt.ylabel(\"Error measure\")\n",
        "plt.show()\n",
        "\n",
        "\n",
        "best_alpha = np.argmin(cv_log_error_array)\n",
        "clf = MultinomialNB(alpha=alpha[best_alpha])\n",
        "clf.fit(train_x_onehotCoding, train_y)\n",
        "sig_clf = CalibratedClassifierCV(clf, method=\"sigmoid\")\n",
        "sig_clf.fit(train_x_onehotCoding, train_y)\n",
        "\n",
        "\n",
        "predict_y = sig_clf.predict_proba(train_x_onehotCoding)\n",
        "print('For values of best alpha = ', alpha[best_alpha], \"The train log loss is:\",log_loss(y_train, predict_y, labels=clf.classes_, eps=1e-15))\n",
        "predict_y = sig_clf.predict_proba(cv_x_onehotCoding)\n",
        "print('For values of best alpha = ', alpha[best_alpha], \"The cross validation log loss is:\",log_loss(y_cv, predict_y, labels=clf.classes_, eps=1e-15))\n",
        "predict_y = sig_clf.predict_proba(test_x_onehotCoding)\n",
        "print('For values of best alpha = ', alpha[best_alpha], \"The test log loss is:\",log_loss(y_test, predict_y, labels=clf.classes_, eps=1e-15))\n"
      ],
      "execution_count": 0,
      "outputs": [
        {
          "output_type": "stream",
          "text": [
            "for alpha = 1e-05\n",
            "Log Loss : 0.2430945434636596\n",
            "for alpha = 0.0001\n",
            "Log Loss : 0.21741985308371675\n",
            "for alpha = 0.001\n",
            "Log Loss : 0.18989212189119203\n",
            "for alpha = 0.1\n",
            "Log Loss : 0.15544954063402963\n",
            "for alpha = 1\n",
            "Log Loss : 0.12859680634879336\n",
            "for alpha = 10\n",
            "Log Loss : 0.12926583019417176\n",
            "for alpha = 100\n",
            "Log Loss : 0.15475196913515124\n",
            "for alpha = 1000\n",
            "Log Loss : 0.1545688585348822\n"
          ],
          "name": "stdout"
        },
        {
          "output_type": "display_data",
          "data": {
            "image/png": "[encoded data removed]",
            "text/plain": [
              "<Figure size 432x288 with 1 Axes>"
            ]
          },
          "metadata": {
            "tags": []
          }
        },
        {
          "output_type": "stream",
          "text": [
            "For values of best alpha =  1 The train log loss is: 0.06952851189404424\n",
            "For values of best alpha =  1 The cross validation log loss is: 0.12859680634879336\n",
            "For values of best alpha =  1 The test log loss is: 0.14358221534382112\n"
          ],
          "name": "stdout"
        }
      ]
    },
    {
      "cell_type": "markdown",
      "metadata": {
        "id": "qeRAn9zkhFCH",
        "colab_type": "text"
      },
      "source": [
        "## Testing the model with best hyper paramters"
      ]
    },
    {
      "cell_type": "code",
      "metadata": {
        "id": "cORzapGVhC8S",
        "colab_type": "code",
        "outputId": "5f3cc6ac-5a79-4f73-b1ff-22155627705b",
        "colab": {
          "base_uri": "https://localhost:8080/",
          "height": 1000
        }
      },
      "source": [
        "clf = MultinomialNB(alpha=alpha[best_alpha])\n",
        "clf.fit(train_x_onehotCoding, train_y)\n",
        "sig_clf = CalibratedClassifierCV(clf, method=\"sigmoid\")\n",
        "sig_clf.fit(train_x_onehotCoding, train_y)\n",
        "sig_clf_probs = sig_clf.predict_proba(cv_x_onehotCoding)\n",
        "# to avoid rounding error while multiplying probabilites we use log-probability estimates\n",
        "print(\"Log Loss :\",log_loss(cv_y, sig_clf_probs))\n",
        "print(\"Number of missclassified point :\", np.count_nonzero((sig_clf.predict(cv_x_onehotCoding)- cv_y))/cv_y.shape[0])\n",
        "plot_confusion_matrix(cv_y, sig_clf.predict(cv_x_onehotCoding.toarray()))\n",
        "\n",
        "\"\"\"### Correctly classified point\"\"\"\n",
        "\n",
        "test_point_index = 1\n",
        "predicted_cls = sig_clf.predict(test_x_onehotCoding[test_point_index])\n",
        "print(\"Predicted Class :\", predicted_cls[0])\n",
        "print(\"Predicted Class Probabilities:\", np.round(sig_clf.predict_proba(test_x_onehotCoding[test_point_index]),4))\n",
        "print(\"Actual Class :\", test_y[test_point_index])\n"
      ],
      "execution_count": 0,
      "outputs": [
        {
          "output_type": "stream",
          "text": [
            "Log Loss : 0.12859680634879336\n",
            "Number of missclassified point : 0.03849303849303849\n",
            "-------------------- Confusion matrix --------------------\n"
          ],
          "name": "stdout"
        },
        {
          "output_type": "display_data",
          "data": {
            "image/png": "[encoded data removed]",
            "text/plain": [
              "<Figure size 1440x504 with 2 Axes>"
            ]
          },
          "metadata": {
            "tags": []
          }
        },
        {
          "output_type": "stream",
          "text": [
            "-------------------- Precision matrix (Columm Sum=1) --------------------\n"
          ],
          "name": "stdout"
        },
        {
          "output_type": "display_data",
          "data": {
            "image/png": "[encoded data removed]",
            "text/plain": [
              "<Figure size 1440x504 with 2 Axes>"
            ]
          },
          "metadata": {
            "tags": []
          }
        },
        {
          "output_type": "stream",
          "text": [
            "-------------------- Recall matrix (Row sum=1) --------------------\n"
          ],
          "name": "stdout"
        },
        {
          "output_type": "display_data",
          "data": {
            "image/png": "[encoded data removed]",
            "text/plain": [
              "<Figure size 1440x504 with 2 Axes>"
            ]
          },
          "metadata": {
            "tags": []
          }
        },
        {
          "output_type": "stream",
          "text": [
            "Predicted Class : 1\n",
            "Predicted Class Probabilities: [[0.0045 0.988  0.0044 0.0031]]\n",
            "Actual Class : 1\n"
          ],
          "name": "stdout"
        }
      ]
    },
    {
      "cell_type": "markdown",
      "metadata": {
        "id": "pqSxp4m7hN4s",
        "colab_type": "text"
      },
      "source": [
        "## K Nearest Neighbour Classification"
      ]
    },
    {
      "cell_type": "markdown",
      "metadata": {
        "id": "iqoCbyFChRSA",
        "colab_type": "text"
      },
      "source": [
        "## Hyper parameter tuning"
      ]
    },
    {
      "cell_type": "code",
      "metadata": {
        "id": "xTFZJikNhC5d",
        "colab_type": "code",
        "outputId": "7fd0621d-33ba-4b80-c5c0-bced8ff9993e",
        "colab": {
          "base_uri": "https://localhost:8080/",
          "height": 618
        }
      },
      "source": [
        "alpha = [5, 11, 15, 21, 31, 41, 51, 99]\n",
        "cv_log_error_array = []\n",
        "for i in alpha:\n",
        "    print(\"for alpha =\", i)\n",
        "    clf = KNeighborsClassifier(n_neighbors=i)\n",
        "    clf.fit(train_x_responseCoding, train_y)\n",
        "    sig_clf = CalibratedClassifierCV(clf, method=\"sigmoid\")\n",
        "    sig_clf.fit(train_x_responseCoding, train_y)\n",
        "    sig_clf_probs = sig_clf.predict_proba(cv_x_responseCoding)\n",
        "    cv_log_error_array.append(log_loss(cv_y, sig_clf_probs, labels=clf.classes_, eps=1e-15))\n",
        "    # to avoid rounding error while multiplying probabilites we use log-probability estimates\n",
        "    print(\"Log Loss :\",log_loss(cv_y, sig_clf_probs)) \n",
        "\n",
        "fig, ax = plt.subplots()\n",
        "ax.plot(alpha, cv_log_error_array,c='g')\n",
        "for i, txt in enumerate(np.round(cv_log_error_array,3)):\n",
        "    ax.annotate((alpha[i],str(txt)), (alpha[i],cv_log_error_array[i]))\n",
        "plt.grid()\n",
        "plt.title(\"Cross Validation Error for each alpha\")\n",
        "plt.xlabel(\"Alpha i's\")\n",
        "plt.ylabel(\"Error measure\")\n",
        "plt.show()\n",
        "\n",
        "\n",
        "best_alpha = np.argmin(cv_log_error_array)\n",
        "clf = KNeighborsClassifier(n_neighbors=alpha[best_alpha])\n",
        "clf.fit(train_x_responseCoding, train_y)\n",
        "sig_clf = CalibratedClassifierCV(clf, method=\"sigmoid\")\n",
        "sig_clf.fit(train_x_responseCoding, train_y)\n",
        "\n",
        "predict_y = sig_clf.predict_proba(train_x_responseCoding)\n",
        "print('For values of best alpha = ', alpha[best_alpha], \"The train log loss is:\",log_loss(y_train, predict_y, labels=clf.classes_, eps=1e-15))\n",
        "predict_y = sig_clf.predict_proba(cv_x_responseCoding)\n",
        "print('For values of best alpha = ', alpha[best_alpha], \"The cross validation log loss is:\",log_loss(y_cv, predict_y, labels=clf.classes_, eps=1e-15))\n",
        "predict_y = sig_clf.predict_proba(test_x_responseCoding)\n",
        "print('For values of best alpha = ', alpha[best_alpha], \"The test log loss is:\",log_loss(y_test, predict_y, labels=clf.classes_, eps=1e-15))\n"
      ],
      "execution_count": 0,
      "outputs": [
        {
          "output_type": "stream",
          "text": [
            "for alpha = 5\n",
            "Log Loss : 0.3273641138853152\n",
            "for alpha = 11\n",
            "Log Loss : 0.3196425587714299\n",
            "for alpha = 15\n",
            "Log Loss : 0.31568519771916376\n",
            "for alpha = 21\n",
            "Log Loss : 0.3207420255033914\n",
            "for alpha = 31\n",
            "Log Loss : 0.32670395980784794\n",
            "for alpha = 41\n",
            "Log Loss : 0.3270915171782146\n",
            "for alpha = 51\n",
            "Log Loss : 0.32729758409461357\n",
            "for alpha = 99\n",
            "Log Loss : 0.3317787771808088\n"
          ],
          "name": "stdout"
        },
        {
          "output_type": "display_data",
          "data": {
            "image/png": "[encoded data removed]",
            "text/plain": [
              "<Figure size 432x288 with 1 Axes>"
            ]
          },
          "metadata": {
            "tags": []
          }
        },
        {
          "output_type": "stream",
          "text": [
            "For values of best alpha =  15 The train log loss is: 0.23054857753485614\n",
            "For values of best alpha =  15 The cross validation log loss is: 0.31568519771916376\n",
            "For values of best alpha =  15 The test log loss is: 0.2988124785696775\n"
          ],
          "name": "stdout"
        }
      ]
    },
    {
      "cell_type": "markdown",
      "metadata": {
        "id": "daXQccDviGCk",
        "colab_type": "text"
      },
      "source": [
        "## Testing the model with best hyper paramters"
      ]
    },
    {
      "cell_type": "code",
      "metadata": {
        "id": "hDML960qhCvJ",
        "colab_type": "code",
        "outputId": "865b8bde-1457-44c0-e5e4-4328e7b051ce",
        "colab": {
          "base_uri": "https://localhost:8080/",
          "height": 1000
        }
      },
      "source": [
        "clf = KNeighborsClassifier(n_neighbors=alpha[best_alpha])\n",
        "predict_and_plot_confusion_matrix(train_x_responseCoding, train_y, cv_x_responseCoding, cv_y, clf)"
      ],
      "execution_count": 0,
      "outputs": [
        {
          "output_type": "stream",
          "text": [
            "Log loss : 0.31568519771916376\n",
            "Number of mis-classified points : 0.10073710073710074\n",
            "-------------------- Confusion matrix --------------------\n"
          ],
          "name": "stdout"
        },
        {
          "output_type": "display_data",
          "data": {
            "image/png": "[encoded data removed]",
            "text/plain": [
              "<Figure size 1440x504 with 2 Axes>"
            ]
          },
          "metadata": {
            "tags": []
          }
        },
        {
          "output_type": "stream",
          "text": [
            "-------------------- Precision matrix (Columm Sum=1) --------------------\n"
          ],
          "name": "stdout"
        },
        {
          "output_type": "display_data",
          "data": {
            "image/png": "[encoded data removed]",
            "text/plain": [
              "<Figure size 1440x504 with 2 Axes>"
            ]
          },
          "metadata": {
            "tags": []
          }
        },
        {
          "output_type": "stream",
          "text": [
            "-------------------- Recall matrix (Row sum=1) --------------------\n"
          ],
          "name": "stdout"
        },
        {
          "output_type": "display_data",
          "data": {
            "image/png": "[encoded data removed]",
            "text/plain": [
              "<Figure size 1440x504 with 2 Axes>"
            ]
          },
          "metadata": {
            "tags": []
          }
        }
      ]
    },
    {
      "cell_type": "code",
      "metadata": {
        "id": "E07yJWEGiONt",
        "colab_type": "code",
        "outputId": "fb264bf5-54af-4bca-a196-0d421027bb70",
        "colab": {
          "base_uri": "https://localhost:8080/",
          "height": 85
        }
      },
      "source": [
        "clf = KNeighborsClassifier(n_neighbors=alpha[best_alpha])\n",
        "clf.fit(train_x_responseCoding, train_y)\n",
        "sig_clf = CalibratedClassifierCV(clf, method=\"sigmoid\")\n",
        "sig_clf.fit(train_x_responseCoding, train_y)\n",
        "\n",
        "test_point_index = 1\n",
        "predicted_cls = sig_clf.predict(test_x_responseCoding[0].reshape(1,-1))\n",
        "print(\"Predicted Class :\", predicted_cls[0])\n",
        "print(\"Actual Class :\", test_y[test_point_index])\n",
        "neighbors = clf.kneighbors(test_x_responseCoding[test_point_index].reshape(1, -1), alpha[best_alpha])\n",
        "print(\"The \",alpha[best_alpha],\" nearest neighbours of the test points belongs to classes\",train_y[neighbors[1][0]])\n",
        "print(\"Fequency of nearest points :\",Counter(train_y[neighbors[1][0]]))"
      ],
      "execution_count": 0,
      "outputs": [
        {
          "output_type": "stream",
          "text": [
            "Predicted Class : 1\n",
            "Actual Class : 1\n",
            "The  15  nearest neighbours of the test points belongs to classes [1 1 1 1 1 1 1 1 1 1 1 1 1 1 1]\n",
            "Fequency of nearest points : Counter({1: 15})\n"
          ],
          "name": "stdout"
        }
      ]
    },
    {
      "cell_type": "code",
      "metadata": {
        "id": "AYuFIhbhiOIZ",
        "colab_type": "code",
        "outputId": "2ee7fd42-b359-42e5-bf5a-47de032314e6",
        "colab": {
          "base_uri": "https://localhost:8080/",
          "height": 105
        }
      },
      "source": [
        "clf = KNeighborsClassifier(n_neighbors=alpha[best_alpha])\n",
        "clf.fit(train_x_responseCoding, train_y)\n",
        "sig_clf = CalibratedClassifierCV(clf, method=\"sigmoid\")\n",
        "sig_clf.fit(train_x_responseCoding, train_y)\n",
        "\n",
        "test_point_index = 100\n",
        "\n",
        "predicted_cls = sig_clf.predict(test_x_responseCoding[test_point_index].reshape(1,-1))\n",
        "print(\"Predicted Class :\", predicted_cls[0])\n",
        "print(\"Actual Class :\", test_y[test_point_index])\n",
        "neighbors = clf.kneighbors(test_x_responseCoding[test_point_index].reshape(1, -1), alpha[best_alpha])\n",
        "print(\"the k value for knn is\",alpha[best_alpha],\"and the nearest neighbours of the test points belongs to classes\",train_y[neighbors[1][0]])\n",
        "print(\"Fequency of nearest points :\",Counter(train_y[neighbors[1][0]]))"
      ],
      "execution_count": 0,
      "outputs": [
        {
          "output_type": "stream",
          "text": [
            "Predicted Class : 1\n",
            "Actual Class : 1\n",
            "the k value for knn is 15 and the nearest neighbours of the test points belongs to classes [1 1 1 1 1 1 1 1 1 1 1 1 1 1 1]\n",
            "Fequency of nearest points : Counter({1: 15})\n"
          ],
          "name": "stdout"
        }
      ]
    },
    {
      "cell_type": "markdown",
      "metadata": {
        "id": "nQ1fUL-yie9U",
        "colab_type": "text"
      },
      "source": [
        "## Logistic Regression(With Class balancing)"
      ]
    },
    {
      "cell_type": "markdown",
      "metadata": {
        "id": "DHD3Tdnhit8V",
        "colab_type": "text"
      },
      "source": [
        "### Hyper paramter tuning"
      ]
    },
    {
      "cell_type": "code",
      "metadata": {
        "id": "diQTGN9KiNtw",
        "colab_type": "code",
        "outputId": "988e095b-ac62-40e4-8bca-7fdaf2eabf04",
        "colab": {
          "base_uri": "https://localhost:8080/",
          "height": 652
        }
      },
      "source": [
        "alpha = [10 ** x for x in range(-6, 3)]\n",
        "cv_log_error_array = []\n",
        "for i in alpha:\n",
        "    print(\"for alpha =\", i)\n",
        "    clf = SGDClassifier(class_weight='balanced', alpha=i, penalty='l2', loss='log', random_state=42)\n",
        "    clf.fit(train_x_onehotCoding, train_y)\n",
        "    sig_clf = CalibratedClassifierCV(clf, method=\"sigmoid\")\n",
        "    sig_clf.fit(train_x_onehotCoding, train_y)\n",
        "    sig_clf_probs = sig_clf.predict_proba(cv_x_onehotCoding)\n",
        "    cv_log_error_array.append(log_loss(cv_y, sig_clf_probs, labels=clf.classes_, eps=1e-15))\n",
        "    # to avoid rounding error while multiplying probabilites we use log-probability estimates\n",
        "    print(\"Log Loss :\",log_loss(cv_y, sig_clf_probs)) \n",
        "\n",
        "fig, ax = plt.subplots()\n",
        "ax.plot(alpha, cv_log_error_array,c='g')\n",
        "for i, txt in enumerate(np.round(cv_log_error_array,3)):\n",
        "    ax.annotate((alpha[i],str(txt)), (alpha[i],cv_log_error_array[i]))\n",
        "plt.grid()\n",
        "plt.title(\"Cross Validation Error for each alpha\")\n",
        "plt.xlabel(\"Alpha i's\")\n",
        "plt.ylabel(\"Error measure\")\n",
        "plt.show()\n",
        "\n",
        "\n",
        "best_alpha = np.argmin(cv_log_error_array)\n",
        "clf = SGDClassifier(class_weight='balanced', alpha=alpha[best_alpha], penalty='l2', loss='log', random_state=42)\n",
        "clf.fit(train_x_onehotCoding, train_y)\n",
        "sig_clf = CalibratedClassifierCV(clf, method=\"sigmoid\")\n",
        "sig_clf.fit(train_x_onehotCoding, train_y)\n",
        "\n",
        "predict_y = sig_clf.predict_proba(train_x_onehotCoding)\n",
        "print('For values of best alpha = ', alpha[best_alpha], \"The train log loss is:\",log_loss(y_train, predict_y, labels=clf.classes_, eps=1e-15))\n",
        "predict_y = sig_clf.predict_proba(cv_x_onehotCoding)\n",
        "print('For values of best alpha = ', alpha[best_alpha], \"The cross validation log loss is:\",log_loss(y_cv, predict_y, labels=clf.classes_, eps=1e-15))\n",
        "predict_y = sig_clf.predict_proba(test_x_onehotCoding)\n",
        "print('For values of best alpha = ', alpha[best_alpha], \"The test log loss is:\",log_loss(y_test, predict_y, labels=clf.classes_, eps=1e-15))\n"
      ],
      "execution_count": 0,
      "outputs": [
        {
          "output_type": "stream",
          "text": [
            "for alpha = 1e-06\n",
            "Log Loss : 0.1617386375419943\n",
            "for alpha = 1e-05\n",
            "Log Loss : 0.1140879244035987\n",
            "for alpha = 0.0001\n",
            "Log Loss : 0.10832952621088365\n",
            "for alpha = 0.001\n",
            "Log Loss : 0.12253600126225576\n",
            "for alpha = 0.01\n",
            "Log Loss : 0.1521994333371923\n",
            "for alpha = 0.1\n",
            "Log Loss : 0.19225963842748098\n",
            "for alpha = 1\n",
            "Log Loss : 0.21896308007636636\n",
            "for alpha = 10\n",
            "Log Loss : 0.22399309491619085\n",
            "for alpha = 100\n",
            "Log Loss : 0.22483056366654483\n"
          ],
          "name": "stdout"
        },
        {
          "output_type": "display_data",
          "data": {
            "image/png": "[encoded data removed]",
            "text/plain": [
              "<Figure size 432x288 with 1 Axes>"
            ]
          },
          "metadata": {
            "tags": []
          }
        },
        {
          "output_type": "stream",
          "text": [
            "For values of best alpha =  0.0001 The train log loss is: 0.06030788963977693\n",
            "For values of best alpha =  0.0001 The cross validation log loss is: 0.10832952621088365\n",
            "For values of best alpha =  0.0001 The test log loss is: 0.14352062627697088\n"
          ],
          "name": "stdout"
        }
      ]
    },
    {
      "cell_type": "markdown",
      "metadata": {
        "id": "11Yu23_cjBkP",
        "colab_type": "text"
      },
      "source": [
        "### Testing the model with best hyper paramters"
      ]
    },
    {
      "cell_type": "code",
      "metadata": {
        "id": "yzBe-c2JjFvW",
        "colab_type": "code",
        "outputId": "e730d7d0-a848-4244-f2e0-430ddee73599",
        "colab": {
          "base_uri": "https://localhost:8080/",
          "height": 1000
        }
      },
      "source": [
        "clf = SGDClassifier(class_weight='balanced', alpha=alpha[best_alpha], penalty='l2', loss='log', random_state=42)\n",
        "predict_and_plot_confusion_matrix(train_x_onehotCoding, train_y, cv_x_onehotCoding, cv_y, clf)\n"
      ],
      "execution_count": 0,
      "outputs": [
        {
          "output_type": "stream",
          "text": [
            "Log loss : 0.10832952621088365\n",
            "Number of mis-classified points : 0.031122031122031123\n",
            "-------------------- Confusion matrix --------------------\n"
          ],
          "name": "stdout"
        },
        {
          "output_type": "display_data",
          "data": {
            "image/png": "[encoded data removed]",
            "text/plain": [
              "<Figure size 1440x504 with 2 Axes>"
            ]
          },
          "metadata": {
            "tags": []
          }
        },
        {
          "output_type": "stream",
          "text": [
            "-------------------- Precision matrix (Columm Sum=1) --------------------\n"
          ],
          "name": "stdout"
        },
        {
          "output_type": "display_data",
          "data": {
            "image/png": "[encoded data removed]",
            "text/plain": [
              "<Figure size 1440x504 with 2 Axes>"
            ]
          },
          "metadata": {
            "tags": []
          }
        },
        {
          "output_type": "stream",
          "text": [
            "-------------------- Recall matrix (Row sum=1) --------------------\n"
          ],
          "name": "stdout"
        },
        {
          "output_type": "display_data",
          "data": {
            "image/png": "[encoded data removed]",
            "text/plain": [
              "<Figure size 1440x504 with 2 Axes>"
            ]
          },
          "metadata": {
            "tags": []
          }
        }
      ]
    },
    {
      "cell_type": "code",
      "metadata": {
        "id": "IyxcsGmWjIwN",
        "colab_type": "code",
        "outputId": "cab2e640-ffbe-41d2-a42f-18dc35a402ec",
        "colab": {
          "base_uri": "https://localhost:8080/",
          "height": 68
        }
      },
      "source": [
        "clf = SGDClassifier(class_weight='balanced', alpha=alpha[best_alpha], penalty='l2', loss='log', random_state=42)\n",
        "clf.fit(train_x_onehotCoding,train_y)\n",
        "test_point_index = 1\n",
        "no_feature = 500\n",
        "predicted_cls = sig_clf.predict(test_x_onehotCoding[test_point_index])\n",
        "print(\"Predicted Class :\", predicted_cls[0])\n",
        "print(\"Predicted Class Probabilities:\", np.round(sig_clf.predict_proba(test_x_onehotCoding[test_point_index]),4))\n",
        "print(\"Actual Class :\", test_y[test_point_index])\n"
      ],
      "execution_count": 0,
      "outputs": [
        {
          "output_type": "stream",
          "text": [
            "Predicted Class : 1\n",
            "Predicted Class Probabilities: [[4.100e-03 9.926e-01 3.100e-03 3.000e-04]]\n",
            "Actual Class : 1\n"
          ],
          "name": "stdout"
        }
      ]
    },
    {
      "cell_type": "markdown",
      "metadata": {
        "id": "sR18FKmojMxW",
        "colab_type": "text"
      },
      "source": [
        "## Logistic Regression(Without Class balancing)"
      ]
    },
    {
      "cell_type": "markdown",
      "metadata": {
        "id": "4uICdIqRjMqF",
        "colab_type": "text"
      },
      "source": [
        "### Hyper paramter tuning"
      ]
    },
    {
      "cell_type": "code",
      "metadata": {
        "id": "yHAxW9IMjVlv",
        "colab_type": "code",
        "outputId": "a9834658-3ff9-4a3b-99d6-03be935ffcb0",
        "colab": {
          "base_uri": "https://localhost:8080/",
          "height": 584
        }
      },
      "source": [
        "\n",
        "alpha = [10 ** x for x in range(-6, 1)]\n",
        "cv_log_error_array = []\n",
        "for i in alpha:\n",
        "    print(\"for alpha =\", i)\n",
        "    clf = SGDClassifier(alpha=i, penalty='l2', loss='log', random_state=42)\n",
        "    clf.fit(train_x_onehotCoding, train_y)\n",
        "    sig_clf = CalibratedClassifierCV(clf, method=\"sigmoid\")\n",
        "    sig_clf.fit(train_x_onehotCoding, train_y)\n",
        "    sig_clf_probs = sig_clf.predict_proba(cv_x_onehotCoding)\n",
        "    cv_log_error_array.append(log_loss(cv_y, sig_clf_probs, labels=clf.classes_, eps=1e-15))\n",
        "    print(\"Log Loss :\",log_loss(cv_y, sig_clf_probs)) \n",
        "\n",
        "fig, ax = plt.subplots()\n",
        "ax.plot(alpha, cv_log_error_array,c='g')\n",
        "for i, txt in enumerate(np.round(cv_log_error_array,3)):\n",
        "    ax.annotate((alpha[i],str(txt)), (alpha[i],cv_log_error_array[i]))\n",
        "plt.grid()\n",
        "plt.title(\"Cross Validation Error for each alpha\")\n",
        "plt.xlabel(\"Alpha i's\")\n",
        "plt.ylabel(\"Error measure\")\n",
        "plt.show()\n",
        "\n",
        "\n",
        "best_alpha = np.argmin(cv_log_error_array)\n",
        "clf = SGDClassifier(alpha=alpha[best_alpha], penalty='l2', loss='log', random_state=42)\n",
        "clf.fit(train_x_onehotCoding, train_y)\n",
        "sig_clf = CalibratedClassifierCV(clf, method=\"sigmoid\")\n",
        "sig_clf.fit(train_x_onehotCoding, train_y)\n",
        "\n",
        "predict_y = sig_clf.predict_proba(train_x_onehotCoding)\n",
        "print('For values of best alpha = ', alpha[best_alpha], \"The train log loss is:\",log_loss(y_train, predict_y, labels=clf.classes_, eps=1e-15))\n",
        "predict_y = sig_clf.predict_proba(cv_x_onehotCoding)\n",
        "print('For values of best alpha = ', alpha[best_alpha], \"The cross validation log loss is:\",log_loss(y_cv, predict_y, labels=clf.classes_, eps=1e-15))\n",
        "predict_y = sig_clf.predict_proba(test_x_onehotCoding)\n",
        "print('For values of best alpha = ', alpha[best_alpha], \"The test log loss is:\",log_loss(y_test, predict_y, labels=clf.classes_, eps=1e-15))\n"
      ],
      "execution_count": 0,
      "outputs": [
        {
          "output_type": "stream",
          "text": [
            "for alpha = 1e-06\n",
            "Log Loss : 0.1631128424792667\n",
            "for alpha = 1e-05\n",
            "Log Loss : 0.10998031510152115\n",
            "for alpha = 0.0001\n",
            "Log Loss : 0.10842857267919888\n",
            "for alpha = 0.001\n",
            "Log Loss : 0.11904716012533001\n",
            "for alpha = 0.01\n",
            "Log Loss : 0.15813804240734972\n",
            "for alpha = 0.1\n",
            "Log Loss : 0.18515670641661394\n",
            "for alpha = 1\n",
            "Log Loss : 0.19628647824145845\n"
          ],
          "name": "stdout"
        },
        {
          "output_type": "display_data",
          "data": {
            "image/png": "[encoded data removed]",
            "text/plain": [
              "<Figure size 432x288 with 1 Axes>"
            ]
          },
          "metadata": {
            "tags": []
          }
        },
        {
          "output_type": "stream",
          "text": [
            "For values of best alpha =  0.0001 The train log loss is: 0.05898349780347368\n",
            "For values of best alpha =  0.0001 The cross validation log loss is: 0.10842857267919888\n",
            "For values of best alpha =  0.0001 The test log loss is: 0.14240273425385155\n"
          ],
          "name": "stdout"
        }
      ]
    },
    {
      "cell_type": "markdown",
      "metadata": {
        "id": "zAXmj-sPjfnK",
        "colab_type": "text"
      },
      "source": [
        "### Testing model with best hyper parameters"
      ]
    },
    {
      "cell_type": "code",
      "metadata": {
        "id": "44pI3A1Qjahn",
        "colab_type": "code",
        "outputId": "0981b635-0d40-4780-c07f-de0406475ec0",
        "colab": {
          "base_uri": "https://localhost:8080/",
          "height": 1000
        }
      },
      "source": [
        "clf = SGDClassifier(alpha=alpha[best_alpha], penalty='l2', loss='log', random_state=42)\n",
        "predict_and_plot_confusion_matrix(train_x_onehotCoding, train_y, cv_x_onehotCoding, cv_y, clf)"
      ],
      "execution_count": 0,
      "outputs": [
        {
          "output_type": "stream",
          "text": [
            "Log loss : 0.10842857267919888\n",
            "Number of mis-classified points : 0.030303030303030304\n",
            "-------------------- Confusion matrix --------------------\n"
          ],
          "name": "stdout"
        },
        {
          "output_type": "display_data",
          "data": {
            "image/png": "[encoded data removed]",
            "text/plain": [
              "<Figure size 1440x504 with 2 Axes>"
            ]
          },
          "metadata": {
            "tags": []
          }
        },
        {
          "output_type": "stream",
          "text": [
            "-------------------- Precision matrix (Columm Sum=1) --------------------\n"
          ],
          "name": "stdout"
        },
        {
          "output_type": "display_data",
          "data": {
            "image/png": "[encoded data removed]",
            "text/plain": [
              "<Figure size 1440x504 with 2 Axes>"
            ]
          },
          "metadata": {
            "tags": []
          }
        },
        {
          "output_type": "stream",
          "text": [
            "-------------------- Recall matrix (Row sum=1) --------------------\n"
          ],
          "name": "stdout"
        },
        {
          "output_type": "display_data",
          "data": {
            "image/png": "[encoded data removed]",
            "text/plain": [
              "<Figure size 1440x504 with 2 Axes>"
            ]
          },
          "metadata": {
            "tags": []
          }
        }
      ]
    },
    {
      "cell_type": "code",
      "metadata": {
        "id": "tpElabByjlo3",
        "colab_type": "code",
        "outputId": "1b4d9bce-2a29-475e-bc28-86fdb3a9bd23",
        "colab": {
          "base_uri": "https://localhost:8080/",
          "height": 68
        }
      },
      "source": [
        "clf = SGDClassifier(alpha=alpha[best_alpha], penalty='l2', loss='log', random_state=42)\n",
        "clf.fit(train_x_onehotCoding,train_y)\n",
        "test_point_index = 1\n",
        "no_feature = 500\n",
        "predicted_cls = sig_clf.predict(test_x_onehotCoding[test_point_index])\n",
        "print(\"Predicted Class :\", predicted_cls[0])\n",
        "print(\"Predicted Class Probabilities:\", np.round(sig_clf.predict_proba(test_x_onehotCoding[test_point_index]),4))\n",
        "print(\"Actual Class :\", test_y[test_point_index])"
      ],
      "execution_count": 0,
      "outputs": [
        {
          "output_type": "stream",
          "text": [
            "Predicted Class : 1\n",
            "Predicted Class Probabilities: [[4.100e-03 9.925e-01 3.100e-03 3.000e-04]]\n",
            "Actual Class : 1\n"
          ],
          "name": "stdout"
        }
      ]
    },
    {
      "cell_type": "markdown",
      "metadata": {
        "id": "wfr_AZ6-j9DW",
        "colab_type": "text"
      },
      "source": [
        "## Linear Support Vector Machines"
      ]
    },
    {
      "cell_type": "markdown",
      "metadata": {
        "id": "-iDBTArmj89g",
        "colab_type": "text"
      },
      "source": [
        "### Hyper paramter tuning"
      ]
    },
    {
      "cell_type": "code",
      "metadata": {
        "id": "PgczLIq3gt0J",
        "colab_type": "code",
        "outputId": "894c025a-71b8-4ad1-b407-7f01a4ebbd8c",
        "colab": {
          "base_uri": "https://localhost:8080/",
          "height": 204
        }
      },
      "source": [
        "alpha = [10 ** x for x in range(-5, 3)]\n",
        "cv_log_error_array = []\n",
        "for i in alpha:\n",
        "    print(\"for C =\", i)\n",
        "#     clf = SVC(C=i,kernel='linear',probability=True, class_weight='balanced')\n",
        "    clf = SGDClassifier( class_weight='balanced', alpha=i, penalty='l2', loss='hinge', random_state=42)\n",
        "    clf.fit(train_x_onehotCoding, train_y)\n",
        "    sig_clf = CalibratedClassifierCV(clf, method=\"sigmoid\")\n",
        "    sig_clf.fit(train_x_onehotCoding, train_y)\n",
        "    sig_clf_probs = sig_clf.predict_proba(cv_x_onehotCoding)\n",
        "    cv_log_error_array.append(log_loss(cv_y, sig_clf_probs, labels=clf.classes_, eps=1e-15))\n",
        "    print(\"Log Loss :\",log_loss(cv_y, sig_clf_probs)) \n",
        "\n",
        "fig, ax = plt.subplots()\n",
        "ax.plot(alpha, cv_log_error_array,c='g')\n",
        "for i, txt in enumerate(np.round(cv_log_error_array,3)):\n",
        "    ax.annotate((alpha[i],str(txt)), (alpha[i],cv_log_error_array[i]))\n",
        "plt.grid()\n",
        "plt.title(\"Cross Validation Error for each alpha\")\n",
        "plt.xlabel(\"Alpha i's\")\n",
        "plt.ylabel(\"Error measure\")\n",
        "plt.show()\n",
        "\n",
        "\n",
        "best_alpha = np.argmin(cv_log_error_array)\n",
        "# clf = SVC(C=i,kernel='linear',probability=True, class_weight='balanced')\n",
        "clf = SGDClassifier(class_weight='balanced', alpha=alpha[best_alpha], penalty='l2', loss='hinge', random_state=42)\n",
        "clf.fit(train_x_onehotCoding, train_y)\n",
        "sig_clf = CalibratedClassifierCV(clf, method=\"sigmoid\")\n",
        "sig_clf.fit(train_x_onehotCoding, train_y)\n",
        "\n",
        "predict_y = sig_clf.predict_proba(train_x_onehotCoding)\n",
        "print('For values of best alpha = ', alpha[best_alpha], \"The train log loss is:\",log_loss(y_train, predict_y, labels=clf.classes_, eps=1e-15))\n",
        "predict_y = sig_clf.predict_proba(cv_x_onehotCoding)\n",
        "print('For values of best alpha = ', alpha[best_alpha], \"The cross validation log loss is:\",log_loss(y_cv, predict_y, labels=clf.classes_, eps=1e-15))\n",
        "predict_y = sig_clf.predict_proba(test_x_onehotCoding)\n",
        "print('For values of best alpha = ', alpha[best_alpha], \"The test log loss is:\",log_loss(y_test, predict_y, labels=clf.classes_, eps=1e-15))\n"
      ],
      "execution_count": 0,
      "outputs": [
        {
          "output_type": "stream",
          "text": [
            "for C = 1e-05\n",
            "Log Loss : 0.13819126655637934\n",
            "for C = 0.0001\n",
            "Log Loss : 0.12857094381203168\n",
            "for C = 0.001\n",
            "Log Loss : 0.152711321712342\n",
            "for C = 0.01\n",
            "Log Loss : 0.19913629232704697\n",
            "for C = 0.1\n",
            "Log Loss : 0.22429856141677665\n",
            "for C = 1\n"
          ],
          "name": "stdout"
        }
      ]
    },
    {
      "cell_type": "markdown",
      "metadata": {
        "id": "t4usbyIBkYL3",
        "colab_type": "text"
      },
      "source": [
        "### Testing model with best hyper parameters"
      ]
    },
    {
      "cell_type": "code",
      "metadata": {
        "id": "O8VY4kWYj4Pc",
        "colab_type": "code",
        "colab": {}
      },
      "source": [
        "clf = SGDClassifier(alpha=alpha[best_alpha], penalty='l2', loss='hinge', random_state=42,class_weight='balanced')\n",
        "predict_and_plot_confusion_matrix(train_x_onehotCoding, train_y,cv_x_onehotCoding,cv_y, clf)"
      ],
      "execution_count": 0,
      "outputs": []
    },
    {
      "cell_type": "code",
      "metadata": {
        "id": "MW5sRDJvXC-r",
        "colab_type": "code",
        "colab": {}
      },
      "source": [
        "clf = SGDClassifier(alpha=alpha[best_alpha], penalty='l2', loss='hinge', random_state=42)\n",
        "clf.fit(train_x_onehotCoding,train_y)\n",
        "test_point_index = 1\n",
        "# test_point_index = 100\n",
        "\n",
        "predicted_cls = sig_clf.predict(test_x_onehotCoding[test_point_index])\n",
        "print(\"Predicted Class :\", predicted_cls[0])\n",
        "print(\"Predicted Class Probabilities:\", np.round(sig_clf.predict_proba(test_x_onehotCoding[test_point_index]),4))\n",
        "print(\"Actual Class :\", test_y[test_point_index])"
      ],
      "execution_count": 0,
      "outputs": []
    },
    {
      "cell_type": "markdown",
      "metadata": {
        "id": "RA-lsANUkkF5",
        "colab_type": "text"
      },
      "source": [
        "## Random Forest Classifier(With One hot Encoding)"
      ]
    },
    {
      "cell_type": "markdown",
      "metadata": {
        "id": "PBJfJI7TkkBA",
        "colab_type": "text"
      },
      "source": [
        "### Hyper paramter tuning"
      ]
    },
    {
      "cell_type": "code",
      "metadata": {
        "id": "E_r8Gm--ki3k",
        "colab_type": "code",
        "outputId": "e9d6ba25-2d8d-4c3a-be0a-fe4fe4f778d3",
        "colab": {
          "base_uri": "https://localhost:8080/",
          "height": 964
        }
      },
      "source": [
        "alpha = [100,200,500,1000,2000]\n",
        "max_depth = [2,3,5,7,10]\n",
        "cv_log_error_array = []\n",
        "for i in alpha:\n",
        "    for j in max_depth:\n",
        "        print(\"for n_estimators =\", i,\"and max depth = \", j)\n",
        "        clf = RandomForestClassifier(n_estimators=i, criterion='gini', max_depth=j, random_state=42, n_jobs=-1)\n",
        "        clf.fit(train_x_onehotCoding, train_y)\n",
        "        sig_clf = CalibratedClassifierCV(clf, method=\"sigmoid\")\n",
        "        sig_clf.fit(train_x_onehotCoding, train_y)\n",
        "        sig_clf_probs = sig_clf.predict_proba(cv_x_onehotCoding)\n",
        "        cv_log_error_array.append(log_loss(cv_y, sig_clf_probs, labels=clf.classes_, eps=1e-15))\n",
        "        print(\"Log Loss :\",log_loss(cv_y, sig_clf_probs)) \n",
        "\n",
        "'''fig, ax = plt.subplots()\n",
        "features = np.dot(np.array(alpha)[:,None],np.array(max_depth)[None]).ravel()\n",
        "ax.plot(features, cv_log_error_array,c='g')\n",
        "for i, txt in enumerate(np.round(cv_log_error_array,3)):\n",
        "    ax.annotate((alpha[int(i/2)],max_depth[int(i%2)],str(txt)), (features[i],cv_log_error_array[i]))\n",
        "plt.grid()\n",
        "plt.title(\"Cross Validation Error for each alpha\")\n",
        "plt.xlabel(\"Alpha i's\")\n",
        "plt.ylabel(\"Error measure\")\n",
        "plt.show()\n",
        "'''\n",
        "\n",
        "best_alpha = np.argmin(cv_log_error_array)\n",
        "clf = RandomForestClassifier(n_estimators=alpha[int(best_alpha/5)], criterion='gini', max_depth=max_depth[int(best_alpha%5)], random_state=42, n_jobs=-1)\n",
        "clf.fit(train_x_onehotCoding, train_y)\n",
        "sig_clf = CalibratedClassifierCV(clf, method=\"sigmoid\")\n",
        "sig_clf.fit(train_x_onehotCoding, train_y)\n",
        "\n",
        "predict_y = sig_clf.predict_proba(train_x_onehotCoding)\n",
        "print('For values of best estimator = ', alpha[int(best_alpha/5)], \"The train log loss is:\",log_loss(y_train, predict_y, labels=clf.classes_, eps=1e-15))\n",
        "predict_y = sig_clf.predict_proba(cv_x_onehotCoding)\n",
        "print('For values of best estimator = ', alpha[int(best_alpha/5)], \"The cross validation log loss is:\",log_loss(y_cv, predict_y, labels=clf.classes_, eps=1e-15))\n",
        "predict_y = sig_clf.predict_proba(test_x_onehotCoding)\n",
        "print('For values of best estimator = ', alpha[int(best_alpha/5)], \"The test log loss is:\",log_loss(y_test, predict_y, labels=clf.classes_, eps=1e-15))\n"
      ],
      "execution_count": 0,
      "outputs": [
        {
          "output_type": "stream",
          "text": [
            "for n_estimators = 100 and max depth =  2\n",
            "Log Loss : 0.31810705493882047\n",
            "for n_estimators = 100 and max depth =  3\n",
            "Log Loss : 0.28408181834316526\n",
            "for n_estimators = 100 and max depth =  5\n",
            "Log Loss : 0.25445820086217175\n",
            "for n_estimators = 100 and max depth =  7\n",
            "Log Loss : 0.23442827013112288\n",
            "for n_estimators = 100 and max depth =  10\n",
            "Log Loss : 0.21769945532774426\n",
            "for n_estimators = 200 and max depth =  2\n",
            "Log Loss : 0.27294026428260726\n",
            "for n_estimators = 200 and max depth =  3\n",
            "Log Loss : 0.26010951084288514\n",
            "for n_estimators = 200 and max depth =  5\n",
            "Log Loss : 0.2414611708432414\n",
            "for n_estimators = 200 and max depth =  7\n",
            "Log Loss : 0.2208993724123441\n",
            "for n_estimators = 200 and max depth =  10\n",
            "Log Loss : 0.2076296224356148\n",
            "for n_estimators = 500 and max depth =  2\n",
            "Log Loss : 0.2418102578371336\n",
            "for n_estimators = 500 and max depth =  3\n",
            "Log Loss : 0.2341767513312301\n",
            "for n_estimators = 500 and max depth =  5\n",
            "Log Loss : 0.22226814885524088\n",
            "for n_estimators = 500 and max depth =  7\n",
            "Log Loss : 0.21030420290796423\n",
            "for n_estimators = 500 and max depth =  10\n",
            "Log Loss : 0.20283007465582065\n",
            "for n_estimators = 1000 and max depth =  2\n",
            "Log Loss : 0.23174759260513733\n",
            "for n_estimators = 1000 and max depth =  3\n",
            "Log Loss : 0.2281801157896787\n",
            "for n_estimators = 1000 and max depth =  5\n",
            "Log Loss : 0.21800530223495707\n",
            "for n_estimators = 1000 and max depth =  7\n",
            "Log Loss : 0.20876610379646623\n",
            "for n_estimators = 1000 and max depth =  10\n",
            "Log Loss : 0.2009689343298425\n",
            "for n_estimators = 2000 and max depth =  2\n",
            "Log Loss : 0.22964284697615334\n",
            "for n_estimators = 2000 and max depth =  3\n",
            "Log Loss : 0.2241883477733315\n",
            "for n_estimators = 2000 and max depth =  5\n",
            "Log Loss : 0.21531725584936426\n",
            "for n_estimators = 2000 and max depth =  7\n",
            "Log Loss : 0.20622719948072082\n",
            "for n_estimators = 2000 and max depth =  10\n",
            "Log Loss : 0.1991927144309127\n",
            "For values of best estimator =  2000 The train log loss is: 0.16845979515204634\n",
            "For values of best estimator =  2000 The cross validation log loss is: 0.1991927144309127\n",
            "For values of best estimator =  2000 The test log loss is: 0.21824334647369528\n"
          ],
          "name": "stdout"
        }
      ]
    },
    {
      "cell_type": "markdown",
      "metadata": {
        "id": "qZfy_rRgkz35",
        "colab_type": "text"
      },
      "source": [
        "### Testing model with best hyper parameters (One Hot Encoding)"
      ]
    },
    {
      "cell_type": "code",
      "metadata": {
        "id": "T39RtgvkkwV_",
        "colab_type": "code",
        "outputId": "b6175222-c6ca-4fc2-a9ae-f7c6746af154",
        "colab": {
          "base_uri": "https://localhost:8080/",
          "height": 1000
        }
      },
      "source": [
        "clf = RandomForestClassifier(n_estimators=alpha[int(best_alpha/5)], criterion='gini', max_depth=max_depth[int(best_alpha%5)], random_state=42, n_jobs=-1)\n",
        "predict_and_plot_confusion_matrix(train_x_onehotCoding, train_y,cv_x_onehotCoding,cv_y, clf)\n"
      ],
      "execution_count": 0,
      "outputs": [
        {
          "output_type": "stream",
          "text": [
            "Log loss : 0.1991927144309127\n",
            "Number of mis-classified points : 0.06060606060606061\n",
            "-------------------- Confusion matrix --------------------\n"
          ],
          "name": "stdout"
        },
        {
          "output_type": "display_data",
          "data": {
            "image/png": "[encoded data removed]",
            "text/plain": [
              "<Figure size 1440x504 with 2 Axes>"
            ]
          },
          "metadata": {
            "tags": []
          }
        },
        {
          "output_type": "stream",
          "text": [
            "-------------------- Precision matrix (Columm Sum=1) --------------------\n"
          ],
          "name": "stdout"
        },
        {
          "output_type": "display_data",
          "data": {
            "image/png": "[encoded data removed]",
            "text/plain": [
              "<Figure size 1440x504 with 2 Axes>"
            ]
          },
          "metadata": {
            "tags": []
          }
        },
        {
          "output_type": "stream",
          "text": [
            "-------------------- Recall matrix (Row sum=1) --------------------\n"
          ],
          "name": "stdout"
        },
        {
          "output_type": "display_data",
          "data": {
            "image/png": "[encoded data removed]",
            "text/plain": [
              "<Figure size 1440x504 with 2 Axes>"
            ]
          },
          "metadata": {
            "tags": []
          }
        }
      ]
    },
    {
      "cell_type": "code",
      "metadata": {
        "id": "E4A-zDuKkwP6",
        "colab_type": "code",
        "colab": {}
      },
      "source": [
        "clf = RandomForestClassifier(n_estimators=alpha[int(best_alpha/5)], criterion='gini', max_depth=max_depth[int(best_alpha%5)], random_state=42, n_jobs=-1)\n",
        "clf.fit(train_x_onehotCoding, train_y)\n",
        "sig_clf = CalibratedClassifierCV(clf, method=\"sigmoid\")\n",
        "sig_clf.fit(train_x_onehotCoding, train_y)\n",
        "\n",
        "test_point_index = 1\n",
        "\n",
        "predicted_cls = sig_clf.predict(test_x_onehotCoding[test_point_index])\n",
        "print(\"Predicted Class :\", predicted_cls[0])\n",
        "print(\"Predicted Class Probabilities:\", np.round(sig_clf.predict_proba(test_x_onehotCoding[test_point_index]),4))\n",
        "print(\"Actual Class :\", test_y[test_point_index])"
      ],
      "execution_count": 0,
      "outputs": []
    },
    {
      "cell_type": "markdown",
      "metadata": {
        "id": "JppcF7vglB3R",
        "colab_type": "text"
      },
      "source": [
        "## Random Forest Classifier(With Response Coding)"
      ]
    },
    {
      "cell_type": "code",
      "metadata": {
        "id": "SzP4ztQVlAvR",
        "colab_type": "code",
        "outputId": "2cdc1a40-ccaa-4238-f149-8a05d7b0a588",
        "colab": {
          "base_uri": "https://localhost:8080/",
          "height": 1000
        }
      },
      "source": [
        "alpha = [10,50,100,200,500,1000,2000]\n",
        "max_depth = [2,3,5,7,10,15,20]\n",
        "cv_log_error_array = []\n",
        "for i in alpha:\n",
        "    for j in max_depth:\n",
        "        print(\"for n_estimators =\", i,\"and max depth = \", j)\n",
        "        clf = RandomForestClassifier(n_estimators=i, criterion='gini', max_depth=j, random_state=42, n_jobs=-1)\n",
        "        clf.fit(train_x_responseCoding, train_y)\n",
        "        sig_clf = CalibratedClassifierCV(clf, method=\"sigmoid\")\n",
        "        sig_clf.fit(train_x_responseCoding, train_y)\n",
        "        sig_clf_probs = sig_clf.predict_proba(cv_x_responseCoding)\n",
        "        cv_log_error_array.append(log_loss(cv_y, sig_clf_probs, labels=clf.classes_, eps=1e-15))\n",
        "        print(\"Log Loss :\",log_loss(cv_y, sig_clf_probs)) \n",
        "        \n",
        "        \n",
        "        \n",
        "best_alpha = np.argmin(cv_log_error_array)\n",
        "clf = RandomForestClassifier(n_estimators=alpha[int(best_alpha/7)], criterion='gini', max_depth=max_depth[int(best_alpha%7)], random_state=42, n_jobs=-1)\n",
        "clf.fit(train_x_responseCoding, train_y)\n",
        "sig_clf = CalibratedClassifierCV(clf, method=\"sigmoid\")\n",
        "sig_clf.fit(train_x_responseCoding, train_y)\n",
        "\n",
        "predict_y = sig_clf.predict_proba(train_x_responseCoding)\n",
        "print('For values of best alpha = ', alpha[int(best_alpha/7)], \"The train log loss is:\",log_loss(y_train, predict_y, labels=clf.classes_, eps=1e-15))\n",
        "predict_y = sig_clf.predict_proba(cv_x_responseCoding)\n",
        "print('For values of best alpha = ', alpha[int(best_alpha/7)], \"The cross validation log loss is:\",log_loss(y_cv, predict_y, labels=clf.classes_, eps=1e-15))\n",
        "predict_y = sig_clf.predict_proba(test_x_responseCoding)\n",
        "print('For values of best alpha = ', alpha[int(best_alpha/7)], \"The test log loss is:\",log_loss(y_test, predict_y, labels=clf.classes_, eps=1e-15))\n"
      ],
      "execution_count": 0,
      "outputs": [
        {
          "output_type": "stream",
          "text": [
            "for n_estimators = 10 and max depth =  2\n",
            "Log Loss : 0.3271820135818559\n",
            "for n_estimators = 10 and max depth =  3\n",
            "Log Loss : 0.3338515913194429\n",
            "for n_estimators = 10 and max depth =  5\n",
            "Log Loss : 0.3339388386972617\n",
            "for n_estimators = 10 and max depth =  7\n",
            "Log Loss : 0.32498450781930427\n",
            "for n_estimators = 10 and max depth =  10\n",
            "Log Loss : 0.3170296889798442\n",
            "for n_estimators = 10 and max depth =  15\n",
            "Log Loss : 0.3247159320552882\n",
            "for n_estimators = 10 and max depth =  20\n",
            "Log Loss : 0.328794112818755\n",
            "for n_estimators = 50 and max depth =  2\n",
            "Log Loss : 0.3339652037069612\n",
            "for n_estimators = 50 and max depth =  3\n",
            "Log Loss : 0.3362003525700234\n",
            "for n_estimators = 50 and max depth =  5\n",
            "Log Loss : 0.3315398386395064\n",
            "for n_estimators = 50 and max depth =  7\n",
            "Log Loss : 0.31973719824927543\n",
            "for n_estimators = 50 and max depth =  10\n",
            "Log Loss : 0.31616187822769587\n",
            "for n_estimators = 50 and max depth =  15\n",
            "Log Loss : 0.31679995175216225\n",
            "for n_estimators = 50 and max depth =  20\n",
            "Log Loss : 0.3222873640502607\n",
            "for n_estimators = 100 and max depth =  2\n",
            "Log Loss : 0.32667031298376215\n",
            "for n_estimators = 100 and max depth =  3\n",
            "Log Loss : 0.3371415137918304\n",
            "for n_estimators = 100 and max depth =  5\n",
            "Log Loss : 0.32970331467391356\n",
            "for n_estimators = 100 and max depth =  7\n",
            "Log Loss : 0.3185281412864538\n",
            "for n_estimators = 100 and max depth =  10\n",
            "Log Loss : 0.31571772661166814\n",
            "for n_estimators = 100 and max depth =  15\n",
            "Log Loss : 0.3188415141932643\n",
            "for n_estimators = 100 and max depth =  20\n",
            "Log Loss : 0.3200482568221063\n",
            "for n_estimators = 200 and max depth =  2\n",
            "Log Loss : 0.3262532828910369\n",
            "for n_estimators = 200 and max depth =  3\n",
            "Log Loss : 0.33955247274976047\n",
            "for n_estimators = 200 and max depth =  5\n",
            "Log Loss : 0.33059162712911017\n",
            "for n_estimators = 200 and max depth =  7\n",
            "Log Loss : 0.3187601020966681\n",
            "for n_estimators = 200 and max depth =  10\n",
            "Log Loss : 0.3164696679946341\n",
            "for n_estimators = 200 and max depth =  15\n",
            "Log Loss : 0.31988004038452983\n",
            "for n_estimators = 200 and max depth =  20\n",
            "Log Loss : 0.32131191532257597\n",
            "for n_estimators = 500 and max depth =  2\n",
            "Log Loss : 0.3246262539593155\n",
            "for n_estimators = 500 and max depth =  3\n",
            "Log Loss : 0.338607933647926\n",
            "for n_estimators = 500 and max depth =  5\n",
            "Log Loss : 0.3306307071839391\n",
            "for n_estimators = 500 and max depth =  7\n",
            "Log Loss : 0.31915964024403726\n",
            "for n_estimators = 500 and max depth =  10\n",
            "Log Loss : 0.31585916503376377\n",
            "for n_estimators = 500 and max depth =  15\n",
            "Log Loss : 0.3193921661885576\n",
            "for n_estimators = 500 and max depth =  20\n",
            "Log Loss : 0.3198853907524567\n",
            "for n_estimators = 1000 and max depth =  2\n",
            "Log Loss : 0.3254550366780753\n",
            "for n_estimators = 1000 and max depth =  3\n",
            "Log Loss : 0.33925233550927786\n",
            "for n_estimators = 1000 and max depth =  5\n",
            "Log Loss : 0.33065808319552953\n",
            "for n_estimators = 1000 and max depth =  7\n",
            "Log Loss : 0.3196363507436846\n",
            "for n_estimators = 1000 and max depth =  10\n",
            "Log Loss : 0.3165751343429044\n",
            "for n_estimators = 1000 and max depth =  15\n",
            "Log Loss : 0.3193718973668404\n",
            "for n_estimators = 1000 and max depth =  20\n",
            "Log Loss : 0.3198444351221901\n",
            "for n_estimators = 2000 and max depth =  2\n",
            "Log Loss : 0.3260734971054494\n",
            "for n_estimators = 2000 and max depth =  3\n",
            "Log Loss : 0.33920084920834154\n",
            "for n_estimators = 2000 and max depth =  5\n",
            "Log Loss : 0.33075343347269753\n",
            "for n_estimators = 2000 and max depth =  7\n",
            "Log Loss : 0.3195963453567565\n",
            "for n_estimators = 2000 and max depth =  10\n",
            "Log Loss : 0.31667805707234575\n",
            "for n_estimators = 2000 and max depth =  15\n",
            "Log Loss : 0.3191695637995865\n",
            "for n_estimators = 2000 and max depth =  20\n",
            "Log Loss : 0.3201947730275894\n",
            "For values of best alpha =  100 The train log loss is: 0.136580971168359\n",
            "For values of best alpha =  100 The cross validation log loss is: 0.31571772661166814\n",
            "For values of best alpha =  100 The test log loss is: 0.30290329457091164\n"
          ],
          "name": "stdout"
        }
      ]
    },
    {
      "cell_type": "code",
      "metadata": {
        "id": "Ul_eKh11lXjX",
        "colab_type": "code",
        "colab": {}
      },
      "source": [
        "clf = RandomForestClassifier(max_depth=max_depth[int(best_alpha%7)], n_estimators=alpha[int(best_alpha/7)], criterion='gini', max_features='auto',random_state=42)\n",
        "predict_and_plot_confusion_matrix(train_x_responseCoding, train_y,cv_x_responseCoding,cv_y, clf)"
      ],
      "execution_count": 0,
      "outputs": []
    },
    {
      "cell_type": "code",
      "metadata": {
        "id": "zxWJ26LVlXgA",
        "colab_type": "code",
        "colab": {}
      },
      "source": [
        "clf = RandomForestClassifier(n_estimators=alpha[int(best_alpha/7)], criterion='gini', max_depth=max_depth[int(best_alpha%7)], random_state=42, n_jobs=-1)\n",
        "clf.fit(train_x_responseCoding, train_y)\n",
        "sig_clf = CalibratedClassifierCV(clf, method=\"sigmoid\")\n",
        "sig_clf.fit(train_x_responseCoding, train_y)\n",
        "\n",
        "\n",
        "test_point_index = 1\n",
        "\n",
        "predicted_cls = sig_clf.predict(test_x_responseCoding[test_point_index].reshape(1,-1))\n",
        "print(\"Predicted Class :\", predicted_cls[0])\n",
        "print(\"Predicted Class Probabilities:\", np.round(sig_clf.predict_proba(test_x_responseCoding[test_point_index].reshape(1,-1)),4))\n",
        "print(\"Actual Class :\", test_y[test_point_index])"
      ],
      "execution_count": 0,
      "outputs": []
    },
    {
      "cell_type": "markdown",
      "metadata": {
        "id": "H_FsSAvWl7wf",
        "colab_type": "text"
      },
      "source": [
        "## Stack the models"
      ]
    },
    {
      "cell_type": "markdown",
      "metadata": {
        "id": "MAk5yYIyl_Qi",
        "colab_type": "text"
      },
      "source": [
        "### testing with hyper parameter tuning"
      ]
    },
    {
      "cell_type": "code",
      "metadata": {
        "id": "Hvzm0_xol47p",
        "colab_type": "code",
        "outputId": "e1ba6a38-1163-4376-d2f9-d6ebcfe1845f",
        "colab": {
          "base_uri": "https://localhost:8080/",
          "height": 267
        }
      },
      "source": [
        "clf1 = SGDClassifier(alpha=0.0001 , penalty='l2', loss='log', class_weight='balanced', random_state=0)\n",
        "clf1.fit(train_x_onehotCoding, train_y)\n",
        "sig_clf1 = CalibratedClassifierCV(clf, method=\"sigmoid\")\n",
        "sig_clf1.fit(train_x_onehotCoding, train_y)\n",
        "\n",
        "clf2 = SGDClassifier(alpha=0.0001, penalty='l2', loss='hinge', class_weight='balanced', random_state=0)\n",
        "clf2.fit(train_x_onehotCoding, train_y)\n",
        "sig_clf2 = CalibratedClassifierCV(clf, method=\"sigmoid\")\n",
        "sig_clf2.fit(train_x_onehotCoding, train_y)\n",
        "\n",
        "\n",
        "clf3 = MultinomialNB(alpha=1)\n",
        "clf3.fit(train_x_onehotCoding, train_y)\n",
        "sig_clf3 = CalibratedClassifierCV(clf, method=\"sigmoid\")\n",
        "sig_clf3.fit(train_x_onehotCoding, train_y)\n",
        "\n",
        "clf4 = RandomForestClassifier(max_depth=10, n_estimators=2000, criterion='gini', max_features='auto',random_state=42)\n",
        "clf4.fit(train_x_onehotCoding, train_y)\n",
        "sig_clf4 = CalibratedClassifierCV(clf, method=\"sigmoid\")\n",
        "sig_clf4.fit(train_x_onehotCoding, train_y)\n",
        "\n",
        "clf5 = KNeighborsClassifier(n_neighbors=41)\n",
        "clf5.fit(train_x_responseCoding, train_y)\n",
        "sig_clf5 = CalibratedClassifierCV(clf, method=\"sigmoid\")\n",
        "sig_clf5.fit(train_x_onehotCoding, train_y)\n",
        "\n",
        "\n",
        "\n",
        "print(\"Logistic Regression :  Log Loss: %0.2f\" % (log_loss(cv_y, sig_clf1.predict_proba(cv_x_onehotCoding))))\n",
        "\n",
        "print(\"Support vector machines : Log Loss: %0.2f\" % (log_loss(cv_y, sig_clf2.predict_proba(cv_x_onehotCoding))))\n",
        "\n",
        "print(\"Naive Bayes : Log Loss: %0.2f\" % (log_loss(cv_y, sig_clf3.predict_proba(cv_x_onehotCoding))))\n",
        "\n",
        "print(\"Random forest : Log Loss: %0.2f\" % (log_loss(cv_y, sig_clf4.predict_proba(cv_x_onehotCoding))))\n",
        "\n",
        "print(\"K Nearest Neighbour : Log Loss: %0.2f\" % (log_loss(cv_y, sig_clf5.predict_proba(cv_x_onehotCoding))))\n",
        "\n",
        "print(\"-\"*50)\n",
        "alpha = [0.0001,0.001,0.01,0.1,1,10,20,50] \n",
        "best_alpha = 999\n",
        "for i in alpha:\n",
        "    lr = LogisticRegression(C=i)\n",
        "    sclf = StackingClassifier(classifiers=[sig_clf1, sig_clf2, sig_clf3,sig_clf4,sig_clf5], meta_classifier=lr, use_probas=True)\n",
        "    sclf.fit(train_x_onehotCoding, train_y)\n",
        "    print(\"Stacking Classifer : for the value of alpha: %f Log Loss: %0.3f\" % (i, log_loss(cv_y, sclf.predict_proba(cv_x_onehotCoding))))\n",
        "    log_error =log_loss(cv_y, sclf.predict_proba(cv_x_onehotCoding))\n",
        "    if best_alpha > log_error:\n",
        "        best_alpha = log_error\n"
      ],
      "execution_count": 0,
      "outputs": [
        {
          "output_type": "stream",
          "text": [
            "Logistic Regression :  Log Loss: 0.22\n",
            "Support vector machines : Log Loss: 0.22\n",
            "Naive Bayes : Log Loss: 0.22\n",
            "Random forest : Log Loss: 0.22\n",
            "K Nearest Neighbour : Log Loss: 0.22\n",
            "--------------------------------------------------\n",
            "Stacking Classifer : for the value of alpha: 0.000100 Log Loss: 1.233\n",
            "Stacking Classifer : for the value of alpha: 0.001000 Log Loss: 0.695\n",
            "Stacking Classifer : for the value of alpha: 0.010000 Log Loss: 0.293\n",
            "Stacking Classifer : for the value of alpha: 0.100000 Log Loss: 0.208\n",
            "Stacking Classifer : for the value of alpha: 1.000000 Log Loss: 0.198\n",
            "Stacking Classifer : for the value of alpha: 10.000000 Log Loss: 0.197\n",
            "Stacking Classifer : for the value of alpha: 20.000000 Log Loss: 0.197\n",
            "Stacking Classifer : for the value of alpha: 50.000000 Log Loss: 0.197\n"
          ],
          "name": "stdout"
        }
      ]
    },
    {
      "cell_type": "markdown",
      "metadata": {
        "id": "jaoq7LcKmHPM",
        "colab_type": "text"
      },
      "source": [
        "### testing the model with the best hyper parameters"
      ]
    },
    {
      "cell_type": "code",
      "metadata": {
        "id": "bFBcMEnll42w",
        "colab_type": "code",
        "colab": {}
      },
      "source": [
        "lr = LogisticRegression(C=1)\n",
        "sclf = StackingClassifier(classifiers=[sig_clf1, sig_clf2, sig_clf3,sig_clf4,sig_clf5], meta_classifier=lr, use_probas=True)\n",
        "sclf.fit(train_x_onehotCoding, train_y)\n",
        "\n",
        "log_error = log_loss(train_y, sclf.predict_proba(train_x_onehotCoding))\n",
        "print(\"Log loss (train) on the stacking classifier :\",log_error)\n",
        "\n",
        "log_error = log_loss(cv_y, sclf.predict_proba(cv_x_onehotCoding))\n",
        "print(\"Log loss (CV) on the stacking classifier :\",log_error)\n",
        "\n",
        "log_error = log_loss(test_y, sclf.predict_proba(test_x_onehotCoding))\n",
        "print(\"Log loss (test) on the stacking classifier :\",log_error)\n",
        "\n",
        "print(\"Number of missclassified point :\", np.count_nonzero((sclf.predict(test_x_onehotCoding)- test_y))/test_y.shape[0])\n",
        "plot_confusion_matrix(test_y=test_y, predict_y=sclf.predict(test_x_onehotCoding))"
      ],
      "execution_count": 0,
      "outputs": []
    },
    {
      "cell_type": "code",
      "metadata": {
        "id": "STAmfaMKmNLH",
        "colab_type": "code",
        "colab": {}
      },
      "source": [
        "predictions = sclf.predict(data_test__onehotCoding)\n",
        "print(predictions)"
      ],
      "execution_count": 0,
      "outputs": []
    },
    {
      "cell_type": "code",
      "metadata": {
        "id": "Obf6AKSGmNHf",
        "colab_type": "code",
        "colab": {}
      },
      "source": [
        "new_series = pd.Series(predictions)\n",
        "new_series.value_counts()"
      ],
      "execution_count": 0,
      "outputs": []
    },
    {
      "cell_type": "code",
      "metadata": {
        "id": "PWqcMpgumMyp",
        "colab_type": "code",
        "outputId": "cc3905ba-1b96-46d7-845d-9aefd0501d18",
        "colab": {
          "base_uri": "https://localhost:8080/",
          "height": 363
        }
      },
      "source": [
        "train_data.head(10)"
      ],
      "execution_count": 0,
      "outputs": [
        {
          "output_type": "execute_result",
          "data": {
            "text/html": [
              "<div>\n",
              "<style scoped>\n",
              "    .dataframe tbody tr th:only-of-type {\n",
              "        vertical-align: middle;\n",
              "    }\n",
              "\n",
              "    .dataframe tbody tr th {\n",
              "        vertical-align: top;\n",
              "    }\n",
              "\n",
              "    .dataframe thead th {\n",
              "        text-align: right;\n",
              "    }\n",
              "</style>\n",
              "<table border=\"1\" class=\"dataframe\">\n",
              "  <thead>\n",
              "    <tr style=\"text-align: right;\">\n",
              "      <th></th>\n",
              "      <th>SECTION</th>\n",
              "      <th>preprocessed_STORY</th>\n",
              "    </tr>\n",
              "  </thead>\n",
              "  <tbody>\n",
              "    <tr>\n",
              "      <th>0</th>\n",
              "      <td>3</td>\n",
              "      <td>but painful huge reversal fee income unheard a...</td>\n",
              "    </tr>\n",
              "    <tr>\n",
              "      <th>1</th>\n",
              "      <td>0</td>\n",
              "      <td>how formidable opposition alliance among congr...</td>\n",
              "    </tr>\n",
              "    <tr>\n",
              "      <th>2</th>\n",
              "      <td>3</td>\n",
              "      <td>most asian currencies trading lower today sout...</td>\n",
              "    </tr>\n",
              "    <tr>\n",
              "      <th>3</th>\n",
              "      <td>1</td>\n",
              "      <td>if want answer question click answer after cli...</td>\n",
              "    </tr>\n",
              "    <tr>\n",
              "      <th>4</th>\n",
              "      <td>3</td>\n",
              "      <td>in global markets gold prices edged today disa...</td>\n",
              "    </tr>\n",
              "    <tr>\n",
              "      <th>5</th>\n",
              "      <td>1</td>\n",
              "      <td>beijing chinese tech giant huawei announced pl...</td>\n",
              "    </tr>\n",
              "    <tr>\n",
              "      <th>6</th>\n",
              "      <td>3</td>\n",
              "      <td>mumbai india inc external commercial borrowing...</td>\n",
              "    </tr>\n",
              "    <tr>\n",
              "      <th>7</th>\n",
              "      <td>3</td>\n",
              "      <td>on wednesday federal reserve chairman jerome p...</td>\n",
              "    </tr>\n",
              "    <tr>\n",
              "      <th>8</th>\n",
              "      <td>2</td>\n",
              "      <td>what give audience i already done yeh hai aash...</td>\n",
              "    </tr>\n",
              "    <tr>\n",
              "      <th>9</th>\n",
              "      <td>2</td>\n",
              "      <td>com arbaaz khan spoke getting back dabangg sal...</td>\n",
              "    </tr>\n",
              "  </tbody>\n",
              "</table>\n",
              "</div>"
            ],
            "text/plain": [
              "   SECTION                                 preprocessed_STORY\n",
              "0        3  but painful huge reversal fee income unheard a...\n",
              "1        0  how formidable opposition alliance among congr...\n",
              "2        3  most asian currencies trading lower today sout...\n",
              "3        1  if want answer question click answer after cli...\n",
              "4        3  in global markets gold prices edged today disa...\n",
              "5        1  beijing chinese tech giant huawei announced pl...\n",
              "6        3  mumbai india inc external commercial borrowing...\n",
              "7        3  on wednesday federal reserve chairman jerome p...\n",
              "8        2  what give audience i already done yeh hai aash...\n",
              "9        2  com arbaaz khan spoke getting back dabangg sal..."
            ]
          },
          "metadata": {
            "tags": []
          },
          "execution_count": 68
        }
      ]
    },
    {
      "cell_type": "code",
      "metadata": {
        "id": "e1za6t2QmUND",
        "colab_type": "code",
        "colab": {}
      },
      "source": [
        "predictions = pd.DataFrame(new_series, columns=['SECTION'])\n",
        "predictions.to_excel(\"News_category_submission.xlsx\", index=False)"
      ],
      "execution_count": 0,
      "outputs": []
    },
    {
      "cell_type": "code",
      "metadata": {
        "id": "amtEoqnlmUJC",
        "colab_type": "code",
        "colab": {}
      },
      "source": [
        "from sklearn.ensemble import VotingClassifier\n",
        "vclf = VotingClassifier(estimators=[('lr', sig_clf1), ('svc', sig_clf2), ('nb', sig_clf3),('rf', sig_clf4),('knn', sig_clf5)], voting='soft')\n",
        "vclf.fit(train_x_onehotCoding, train_y)\n",
        "print(\"Log loss (train) on the VotingClassifier :\", log_loss(train_y, vclf.predict_proba(train_x_onehotCoding)))\n",
        "print(\"Log loss (CV) on the VotingClassifier :\", log_loss(cv_y, vclf.predict_proba(cv_x_onehotCoding)))\n",
        "print(\"Log loss (test) on the VotingClassifier :\", log_loss(test_y, vclf.predict_proba(test_x_onehotCoding)))\n",
        "print(\"Number of missclassified point :\", np.count_nonzero((vclf.predict(test_x_onehotCoding)- test_y))/test_y.shape[0])\n",
        "plot_confusion_matrix(test_y=test_y, predict_y=vclf.predict(test_x_onehotCoding))"
      ],
      "execution_count": 0,
      "outputs": []
    },
    {
      "cell_type": "code",
      "metadata": {
        "id": "LH2RFD25X6TT",
        "colab_type": "code",
        "colab": {}
      },
      "source": [
        ""
      ],
      "execution_count": 0,
      "outputs": []
    }
  ]
}